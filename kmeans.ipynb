{
 "cells": [
  {
   "cell_type": "code",
   "execution_count": 32,
   "metadata": {},
   "outputs": [],
   "source": [
    "import numpy as np\n",
    "import pandas as pd\n",
    "import import_ipynb\n",
    "import matplotlib.pyplot as plt"
   ]
  },
  {
   "cell_type": "code",
   "execution_count": 5,
   "metadata": {},
   "outputs": [],
   "source": [
    "from kmeanspp import kmeanspp, compute_distance"
   ]
  },
  {
   "cell_type": "markdown",
   "metadata": {},
   "source": [
    "### Assign points to centers"
   ]
  },
  {
   "cell_type": "code",
   "execution_count": 6,
   "metadata": {},
   "outputs": [],
   "source": [
    "# Input\n",
    "# centers: existing centroids\n",
    "# data: numpy array containing all data points\n",
    "# Output\n",
    "# Array of centers corresponding to each point\n",
    "def assign_centers(centers, data):\n",
    "    allocated_centers = []\n",
    "    num_of_rows = data.shape[0]\n",
    "    num_of_centers = len(centers)\n",
    "    for i in range(num_of_rows):\n",
    "        point = data[i]\n",
    "        final_distance = -1\n",
    "        final = -1\n",
    "        for j in range(num_of_centers):\n",
    "            center = centers[j]\n",
    "            distance = compute_distance(point, center)\n",
    "            if final_distance == -1:\n",
    "                final_distance = distance\n",
    "                final = j\n",
    "            elif distance < final_distance:\n",
    "                final_distance = distance\n",
    "                final = j\n",
    "        allocated_centers.append(final)\n",
    "    return allocated_centers"
   ]
  },
  {
   "cell_type": "markdown",
   "metadata": {},
   "source": [
    "### Update Centers"
   ]
  },
  {
   "cell_type": "code",
   "execution_count": 7,
   "metadata": {},
   "outputs": [],
   "source": [
    "# Input \n",
    "# K : number of clusters\n",
    "# clustered_data : data grouped into K clusters\n",
    "# data : numpy 2-d array containing data\n",
    "# Output\n",
    "# updated centers\n",
    "\n",
    "def update_centers(K, clustered_data, data):\n",
    "    dim = data.shape[1]\n",
    "    sums = np.zeros(( K, dim+1), dtype = float )\n",
    "    num_rows = data.shape[0]\n",
    "\n",
    "    for i in range(num_rows):\n",
    "        assigned_cluster = clustered_data[i]\n",
    "        sums[assigned_cluster][-1] += 1\n",
    "        for j in range(dim):\n",
    "            sums[assigned_cluster][j] += data[i][j]\n",
    "\n",
    "    for i in range(K):\n",
    "        for j in range(dim):\n",
    "            sums[i][j] /= sums[i][-1]\n",
    "\n",
    "    centers = []\n",
    "    for i in range(K):\n",
    "        centers.append(sums[i][:-1])\n",
    "\n",
    "    return centers"
   ]
  },
  {
   "cell_type": "markdown",
   "metadata": {},
   "source": [
    "### Comparing two lists"
   ]
  },
  {
   "cell_type": "code",
   "execution_count": 10,
   "metadata": {},
   "outputs": [],
   "source": [
    "# Input\n",
    "# list1 and list2\n",
    "# Output:\n",
    "# True if list1 ~ list2 , False otherwise\n",
    "\n",
    "def check_equality(list1, list2):\n",
    "    K = len(list1)\n",
    "    dim = len(list1[0])\n",
    "    threshold = 1e-3\n",
    "\n",
    "    for i in range(K):\n",
    "        for j in range(dim):\n",
    "            if abs(list1[i][j] - list2[i][j]) > threshold:\n",
    "                return False\n",
    "\n",
    "    return True"
   ]
  },
  {
   "cell_type": "markdown",
   "metadata": {},
   "source": [
    "### Kmeans function"
   ]
  },
  {
   "cell_type": "code",
   "execution_count": 30,
   "metadata": {},
   "outputs": [],
   "source": [
    "# Input \n",
    "# K : number of clusters\n",
    "# data : numpy 2-d array containing data\n",
    "# num_of_iteration : no. of iterations of the kmeans algo\n",
    "# Output\n",
    "# clustered_data : data grouped into K clusters\n",
    "\n",
    "def kmeans(K, data, num_of_iteration = 10000):\n",
    "    centers = kmeanspp(K, data)\n",
    "    clustered_data = []\n",
    "    for i in range(num_of_iteration):\n",
    "        prev_centers = centers\n",
    "        clustered_data = assign_centers(centers, data)\n",
    "        centers = update_centers(K, clustered_data, data)\n",
    "        if check_equality(prev_centers,centers):\n",
    "            break\n",
    "    num_rows = data.shape[0]\n",
    "    \n",
    "    res = []\n",
    "\n",
    "    for i in range(num_rows):\n",
    "        temp = list(data[i])\n",
    "        temp.append(clustered_data[i])\n",
    "        res.append(temp)\n",
    "    \n",
    "    return np.array(res), centers\n"
   ]
  },
  {
   "cell_type": "markdown",
   "metadata": {},
   "source": [
    "### Testing"
   ]
  },
  {
   "cell_type": "code",
   "execution_count": 35,
   "metadata": {},
   "outputs": [
    {
     "name": "stdout",
     "output_type": "stream",
     "text": [
      "First index: 1\n",
      "[[ 0.8  1.   2. ]\n",
      " [ 0.8 -1.   0. ]\n",
      " [-1.   1.2  1. ]\n",
      " [ 1.  -1.2  0. ]\n",
      " [-0.8 -1.   3. ]\n",
      " [ 1.   0.8  2. ]\n",
      " [-1.  -1.2  3. ]\n",
      " [ 1.   1.2  2. ]\n",
      " [ 1.  -0.8  0. ]\n",
      " [ 1.   1.   2. ]\n",
      " [ 1.  -1.   0. ]\n",
      " [-1.   0.8  1. ]\n",
      " [-1.  -0.8  3. ]\n",
      " [-1.  -1.   3. ]\n",
      " [-0.8  1.   1. ]\n",
      " [-1.   1.   1. ]]\n",
      "[array([ 0.95, -1.  ]), array([-0.95,  1.  ]), array([0.95, 1.  ]), array([-0.95, -1.  ])]\n"
     ]
    }
   ],
   "source": [
    "data = np.array([[4, 5],[4,-5],[-5, 6],[5, -6],[-4, -5],[5, 4],[-5, -6],[5, 6],[5, -4],[5, 5],[5, -5],[-5, 4],[-5, -4],[-5, -5],[-4, 5],[-5, 5]])/5\n",
    "K = 4\n",
    "data, centers = kmeans(K, data)\n",
    "print(data)\n",
    "print(centers)"
   ]
  },
  {
   "cell_type": "code",
   "execution_count": 37,
   "metadata": {},
   "outputs": [
    {
     "data": {
      "image/png": "[encoded data removed]",
      "text/plain": [
       "<Figure size 432x288 with 1 Axes>"
      ]
     },
     "metadata": {
      "needs_background": "light"
     },
     "output_type": "display_data"
    }
   ],
   "source": [
    "color=['blue','green','cyan','black']\n",
    "num_rows = data.shape[0]\n",
    "for i in range(num_rows):\n",
    "    k = int(data[i][2]) \n",
    "    plt.scatter(data[i][0],data[i][1],c=color[k])\n",
    "\n",
    "for i in range(K):\n",
    "    plt.scatter(centers[i][0],centers[i][1],c='red')\n",
    "plt.xlabel('X')\n",
    "plt.ylabel('Y')\n",
    "plt.show()"
   ]
  },
  {
   "cell_type": "code",
   "execution_count": null,
   "metadata": {},
   "outputs": [],
   "source": []
  }
 ],
 "metadata": {
  "interpreter": {
   "hash": "916dbcbb3f70747c44a77c7bcd40155683ae19c65e1c03b4aa3499c5328201f1"
  },
  "kernelspec": {
   "display_name": "Python 3.8.10 64-bit",
   "language": "python",
   "name": "python3"
  },
  "language_info": {
   "codemirror_mode": {
    "name": "ipython",
    "version": 3
   },
   "file_extension": ".py",
   "mimetype": "text/x-python",
   "name": "python",
   "nbconvert_exporter": "python",
   "pygments_lexer": "ipython3",
   "version": "3.9.7"
  },
  "orig_nbformat": 4
 },
 "nbformat": 4,
 "nbformat_minor": 2
}
