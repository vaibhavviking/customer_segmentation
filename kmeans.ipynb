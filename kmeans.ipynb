{
 "cells": [
  {
   "cell_type": "code",
   "execution_count": 1,
   "metadata": {},
   "outputs": [],
   "source": [
    "import numpy as np\n",
    "import pandas as pd\n",
    "import import_ipynb\n",
    "import matplotlib.pyplot as plt"
   ]
  },
  {
   "cell_type": "code",
   "execution_count": 2,
   "metadata": {},
   "outputs": [
    {
     "name": "stdout",
     "output_type": "stream",
     "text": [
      "importing Jupyter notebook from kmeanspp.ipynb\n",
      "[array([8, 8]), array([-2, -2]), array([2, 2])]\n"
     ]
    }
   ],
   "source": [
    "from kmeanspp import kmeanspp, compute_distance"
   ]
  },
  {
   "cell_type": "markdown",
   "metadata": {},
   "source": [
    "### Assign points to centers"
   ]
  },
  {
   "cell_type": "code",
   "execution_count": 3,
   "metadata": {},
   "outputs": [],
   "source": [
    "# Input\n",
    "# centers: existing centroids\n",
    "# data: numpy array containing all data points\n",
    "# Output\n",
    "# Array of centers corresponding to each point\n",
    "def assign_centers(centers, data):\n",
    "    allocated_centers = []\n",
    "    num_of_rows = data.shape[0]\n",
    "    num_of_centers = len(centers)\n",
    "    for i in range(num_of_rows):\n",
    "        point = data[i]\n",
    "        final_distance = -1\n",
    "        final = -1\n",
    "        for j in range(num_of_centers):\n",
    "            center = centers[j]\n",
    "            distance = compute_distance(point, center)\n",
    "            if final_distance == -1:\n",
    "                final_distance = distance\n",
    "                final = j\n",
    "            elif distance < final_distance:\n",
    "                final_distance = distance\n",
    "                final = j\n",
    "        allocated_centers.append(final)\n",
    "    return allocated_centers"
   ]
  },
  {
   "cell_type": "markdown",
   "metadata": {},
   "source": [
    "### Update Centers"
   ]
  },
  {
   "cell_type": "code",
   "execution_count": 4,
   "metadata": {},
   "outputs": [],
   "source": [
    "# Input \n",
    "# K : number of clusters\n",
    "# clustered_data : data grouped into K clusters\n",
    "# data : numpy 2-d array containing data\n",
    "# Output\n",
    "# updated centers\n",
    "\n",
    "def update_centers(K, clustered_data, data):\n",
    "    dim = data.shape[1]\n",
    "    sums = np.zeros(( K, dim+1), dtype = float )\n",
    "    num_rows = data.shape[0]\n",
    "\n",
    "    for i in range(num_rows):\n",
    "        assigned_cluster = clustered_data[i]\n",
    "        sums[assigned_cluster][-1] += 1\n",
    "        for j in range(dim):\n",
    "            sums[assigned_cluster][j] += data[i][j]\n",
    "\n",
    "    for i in range(K):\n",
    "        for j in range(dim):\n",
    "            sums[i][j] /= sums[i][-1]\n",
    "\n",
    "    centers = []\n",
    "    for i in range(K):\n",
    "        centers.append(sums[i][:-1])\n",
    "\n",
    "    return centers"
   ]
  },
  {
   "cell_type": "markdown",
   "metadata": {},
   "source": [
    "### Comparing two lists"
   ]
  },
  {
   "cell_type": "code",
   "execution_count": 5,
   "metadata": {},
   "outputs": [],
   "source": [
    "# Input\n",
    "# list1 and list2\n",
    "# Output:\n",
    "# True if list1 ~ list2 , False otherwise\n",
    "\n",
    "def check_equality(list1, list2):\n",
    "    K = len(list1)\n",
    "    dim = len(list1[0])\n",
    "    threshold = 1e-3\n",
    "\n",
    "    for i in range(K):\n",
    "        for j in range(dim):\n",
    "            if abs(list1[i][j] - list2[i][j]) > threshold:\n",
    "                return False\n",
    "\n",
    "    return True"
   ]
  },
  {
   "cell_type": "markdown",
   "metadata": {},
   "source": [
    "### Kmeans function"
   ]
  },
  {
   "cell_type": "code",
   "execution_count": 6,
   "metadata": {},
   "outputs": [],
   "source": [
    "# Input \n",
    "# K : number of clusters\n",
    "# data : numpy 2-d array containing data\n",
    "# num_of_iteration : no. of iterations of the kmeans algo\n",
    "# Output\n",
    "# clustered_data : data grouped into K clusters\n",
    "\n",
    "def kmeans(K, data, num_of_iteration = 10000):\n",
    "    centers = kmeanspp(K, data)\n",
    "    # centers = np.random.rand(k,data.shape[1])\n",
    "    clustered_data = []\n",
    "    for i in range(num_of_iteration):\n",
    "        prev_centers = centers\n",
    "        clustered_data = assign_centers(centers, data)\n",
    "        centers = update_centers(K, clustered_data, data)\n",
    "        if check_equality(prev_centers,centers):\n",
    "            break\n",
    "    num_rows = data.shape[0]\n",
    "    \n",
    "    res = []\n",
    "\n",
    "    for i in range(num_rows):\n",
    "        temp = list(data[i])\n",
    "        temp.append(clustered_data[i])\n",
    "        res.append(temp)\n",
    "    \n",
    "    return np.array(res), centers\n"
   ]
  },
  {
   "cell_type": "markdown",
   "metadata": {},
   "source": [
    "### Testing"
   ]
  },
  {
   "cell_type": "code",
   "execution_count": null,
   "metadata": {},
   "outputs": [],
   "source": [
    "data = np.array([[4, 5],[4,-5],[-5, 6],[5, -6],[-4, -5],[5, 4],[-5, -6],[5, 6],[5, -4],[5, 5],[5, -5],[-5, 4],[-5, -4],[-5, -5],[-4, 5],[-5, 5]])/5\n",
    "K = 4\n",
    "data, centers = kmeans(K, data)\n",
    "print(data)\n",
    "print(centers)"
   ]
  },
  {
   "cell_type": "code",
   "execution_count": 37,
   "metadata": {},
   "outputs": [
    {
     "data": {
      "image/png": "[encoded data removed]",
      "text/plain": [
       "<Figure size 432x288 with 1 Axes>"
      ]
     },
     "metadata": {
      "needs_background": "light"
     },
     "output_type": "display_data"
    }
   ],
   "source": [
    "color=['blue','green','cyan','black']\n",
    "num_rows = data.shape[0]\n",
    "for i in range(num_rows):\n",
    "    k = int(data[i][2]) \n",
    "    plt.scatter(data[i][0],data[i][1],c=color[k])\n",
    "\n",
    "for i in range(K):\n",
    "    plt.scatter(centers[i][0],centers[i][1],c='red')\n",
    "plt.xlabel('X')\n",
    "plt.ylabel('Y')\n",
    "plt.show()"
   ]
  },
  {
   "cell_type": "code",
   "execution_count": 7,
   "metadata": {},
   "outputs": [
    {
     "name": "stdout",
     "output_type": "stream",
     "text": [
      "[[1.78500000e+04 0.00000000e+00 0.00000000e+00 ... 3.40000000e+01\n",
      "  1.54285217e+02 0.00000000e+00]\n",
      " [1.30470000e+04 0.00000000e+00 8.95197494e+00 ... 9.00000000e+00\n",
      "  3.25873684e+02 0.00000000e+00]\n",
      " [1.25830000e+04 0.00000000e+00 2.00036450e+01 ... 1.50000000e+01\n",
      "  4.63699355e+02 0.00000000e+00]\n",
      " ...\n",
      " [1.32980000e+04 0.00000000e+00 0.00000000e+00 ... 1.00000000e+00\n",
      "  2.40000000e+02 0.00000000e+00]\n",
      " [1.45690000e+04 0.00000000e+00 0.00000000e+00 ... 1.00000000e+00\n",
      "  1.51593333e+02 0.00000000e+00]\n",
      " [1.27130000e+04 0.00000000e+00 1.07249279e+01 ... 1.00000000e+00\n",
      "  5.65700000e+02 0.00000000e+00]]\n",
      "[array([1.53144309e+04, 2.94401442e+00, 1.41405407e+01, 1.45956951e+01,\n",
      "       2.24685276e+01, 4.20606708e+01, 1.16139897e+03, 1.25446344e+02,\n",
      "       4.69761073e+02, 3.51477598e+00, 2.73387705e+02]), array([1.63740000e+04, 1.44526173e+00, 6.69138749e+00, 3.36556100e+01,\n",
      "       1.71379543e+01, 3.79501196e+01, 2.69711160e+05, 0.00000000e+00,\n",
      "       2.12419600e+04, 6.65000000e+01, 4.04909150e+03]), array([1.38273333e+04, 1.31115675e+00, 1.11050137e+01, 1.37967653e+01,\n",
      "       2.09693079e+01, 4.95351000e+01, 1.24861210e+05, 0.00000000e+00,\n",
      "       1.37823167e+04, 9.10000000e+01, 3.02857718e+03]), array([1.54938462e+04, 1.79321979e+00, 1.08041494e+01, 1.50655951e+01,\n",
      "       1.86497668e+01, 4.93916447e+01, 5.93042954e+04, 0.00000000e+00,\n",
      "       7.24195077e+03, 5.14615385e+01, 1.70588596e+03]), array([1.74500000e+04, 5.27457276e+00, 5.21107303e+00, 8.90651771e+00,\n",
      "       1.09436380e+01, 6.55729843e+01, 1.93417630e+05, 0.00000000e+00,\n",
      "       3.07570000e+04, 4.60000000e+01, 4.15951892e+03]), array([1.48265000e+04, 1.70528215e+00, 1.01028038e+01, 1.53927641e+01,\n",
      "       1.99675355e+01, 4.86434541e+01, 1.46794533e+04, 0.00000000e+00,\n",
      "       2.90133116e+03, 2.25803571e+01, 1.04602013e+03])]\n"
     ]
    }
   ],
   "source": [
    "df_products = pd.read_csv(\"df_phase9.csv\",encoding=\"latin1\")\n",
    "df_products_inp = df_products.drop([\"CustomerID\",df_products.columns[0]],axis=1)\n",
    "df_products_inp = df_products.drop([\"CountryID\",df_products.columns[0]],axis=1)\n",
    "df_products_np = df_products_inp.to_numpy()\n",
    "\n",
    "data, centers = kmeans(6,df_products_np)\n",
    "\n",
    "print(data)\n",
    "print(centers)"
   ]
  },
  {
   "cell_type": "code",
   "execution_count": 9,
   "metadata": {},
   "outputs": [
    {
     "name": "stdout",
     "output_type": "stream",
     "text": [
      "0.0\n"
     ]
    },
    {
     "data": {
      "image/png": "[encoded data removed]",
      "text/plain": [
       "<Figure size 432x288 with 1 Axes>"
      ]
     },
     "metadata": {
      "needs_background": "light"
     },
     "output_type": "display_data"
    }
   ],
   "source": [
    "bins = np.arange(-100, 100, 1) # fixed bin size\n",
    "print(min(data[:,-1]))\n",
    "plt.xlim([min(data[:,-1])-5, 20])\n",
    "\n",
    "plt.hist(data[:,-1], bins=bins, alpha=0.5)\n",
    "plt.show()\n"
   ]
  },
  {
   "cell_type": "code",
   "execution_count": 10,
   "metadata": {},
   "outputs": [
    {
     "name": "stdout",
     "output_type": "stream",
     "text": [
      "0.0    4196\n",
      "5.0     112\n",
      "3.0      13\n",
      "2.0       3\n",
      "1.0       2\n",
      "4.0       1\n",
      "dtype: int64\n"
     ]
    }
   ],
   "source": [
    "print(pd.Series(data[:,-1]).value_counts())"
   ]
  }
 ],
 "metadata": {
  "interpreter": {
   "hash": "916dbcbb3f70747c44a77c7bcd40155683ae19c65e1c03b4aa3499c5328201f1"
  },
  "kernelspec": {
   "display_name": "Python 3.8.10 64-bit",
   "language": "python",
   "name": "python3"
  },
  "language_info": {
   "codemirror_mode": {
    "name": "ipython",
    "version": 3
   },
   "file_extension": ".py",
   "mimetype": "text/x-python",
   "name": "python",
   "nbconvert_exporter": "python",
   "pygments_lexer": "ipython3",
   "version": "3.9.7"
  },
  "orig_nbformat": 4
 },
 "nbformat": 4,
 "nbformat_minor": 2
}
