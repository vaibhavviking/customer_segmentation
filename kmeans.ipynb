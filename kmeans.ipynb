{
 "cells": [
  {
   "cell_type": "code",
   "execution_count": 2,
   "metadata": {},
   "outputs": [],
   "source": [
    "import numpy as np\n",
    "import pandas as pd\n",
    "import import_ipynb\n",
    "import matplotlib.pyplot as plt"
   ]
  },
  {
   "cell_type": "code",
   "execution_count": 3,
   "metadata": {},
   "outputs": [
    {
     "name": "stdout",
     "output_type": "stream",
     "text": [
      "importing Jupyter notebook from kmeanspp.ipynb\n",
      "[array([1, 1]), array([8, 8]), array([-2, -2])]\n"
     ]
    }
   ],
   "source": [
    "from kmeanspp import kmeanspp, compute_distance"
   ]
  },
  {
   "cell_type": "markdown",
   "metadata": {},
   "source": [
    "### Assign points to centers"
   ]
  },
  {
   "cell_type": "code",
   "execution_count": 4,
   "metadata": {},
   "outputs": [],
   "source": [
    "# Input\n",
    "# centers: existing centroids\n",
    "# data: numpy array containing all data points\n",
    "# Output\n",
    "# Array of centers corresponding to each point\n",
    "def assign_centers(centers, data):\n",
    "    allocated_centers = []\n",
    "    num_of_rows = data.shape[0]\n",
    "    num_of_centers = len(centers)\n",
    "    for i in range(num_of_rows):\n",
    "        point = data[i]\n",
    "        final_distance = -1\n",
    "        final = -1\n",
    "        for j in range(num_of_centers):\n",
    "            center = centers[j]\n",
    "            distance = compute_distance(point, center)\n",
    "            if final_distance == -1:\n",
    "                final_distance = distance\n",
    "                final = j\n",
    "            elif distance < final_distance:\n",
    "                final_distance = distance\n",
    "                final = j\n",
    "        allocated_centers.append(final)\n",
    "    return allocated_centers"
   ]
  },
  {
   "cell_type": "markdown",
   "metadata": {},
   "source": [
    "### Update Centers"
   ]
  },
  {
   "cell_type": "code",
   "execution_count": 5,
   "metadata": {},
   "outputs": [],
   "source": [
    "# Input \n",
    "# K : number of clusters\n",
    "# clustered_data : data grouped into K clusters\n",
    "# data : numpy 2-d array containing data\n",
    "# Output\n",
    "# updated centers\n",
    "\n",
    "def update_centers(K, clustered_data, data):\n",
    "    dim = data.shape[1]\n",
    "    sums = np.zeros(( K, dim+1), dtype = float )\n",
    "    num_rows = data.shape[0]\n",
    "\n",
    "    for i in range(num_rows):\n",
    "        assigned_cluster = clustered_data[i]\n",
    "        sums[assigned_cluster][-1] += 1\n",
    "        for j in range(dim):\n",
    "            sums[assigned_cluster][j] += data[i][j]\n",
    "\n",
    "    for i in range(K):\n",
    "        for j in range(dim):\n",
    "            sums[i][j] /= sums[i][-1]\n",
    "\n",
    "    centers = []\n",
    "    for i in range(K):\n",
    "        centers.append(sums[i][:-1])\n",
    "\n",
    "    return centers"
   ]
  },
  {
   "cell_type": "markdown",
   "metadata": {},
   "source": [
    "### Comparing two lists"
   ]
  },
  {
   "cell_type": "code",
   "execution_count": 6,
   "metadata": {},
   "outputs": [],
   "source": [
    "# Input\n",
    "# list1 and list2\n",
    "# Output:\n",
    "# True if list1 ~ list2 , False otherwise\n",
    "\n",
    "def check_equality(list1, list2):\n",
    "    K = len(list1)\n",
    "    dim = len(list1[0])\n",
    "    threshold = 1e-3\n",
    "\n",
    "    for i in range(K):\n",
    "        for j in range(dim):\n",
    "            if abs(list1[i][j] - list2[i][j]) > threshold:\n",
    "                return False\n",
    "\n",
    "    return True"
   ]
  },
  {
   "cell_type": "markdown",
   "metadata": {},
   "source": [
    "### Kmeans function"
   ]
  },
  {
   "cell_type": "code",
   "execution_count": 23,
   "metadata": {},
   "outputs": [],
   "source": [
    "# Input \n",
    "# K : number of clusters\n",
    "# data : numpy 2-d array containing data\n",
    "# num_of_iteration : no. of iterations of the kmeans algo\n",
    "# Output\n",
    "# clustered_data : data grouped into K clusters\n",
    "\n",
    "def kmeans(K, data, num_of_iteration = 10000):\n",
    "    centers = kmeanspp(K, data)\n",
    "    # centers = np.random.rand(k,data.shape[1])\n",
    "    clustered_data = []\n",
    "    for i in range(num_of_iteration):\n",
    "        prev_centers = centers\n",
    "        clustered_data = assign_centers(centers, data)\n",
    "        centers = update_centers(K, clustered_data, data)\n",
    "        if check_equality(prev_centers,centers):\n",
    "            break\n",
    "    num_rows = data.shape[0]\n",
    "    \n",
    "    res = []\n",
    "\n",
    "    for i in range(num_rows):\n",
    "        temp = list(data[i])\n",
    "        temp.append(clustered_data[i])\n",
    "        res.append(temp)\n",
    "    \n",
    "    return np.array(res), centers\n"
   ]
  },
  {
   "cell_type": "markdown",
   "metadata": {},
   "source": [
    "### Testing"
   ]
  },
  {
   "cell_type": "code",
   "execution_count": null,
   "metadata": {},
   "outputs": [],
   "source": [
    "data = np.array([[4, 5],[4,-5],[-5, 6],[5, -6],[-4, -5],[5, 4],[-5, -6],[5, 6],[5, -4],[5, 5],[5, -5],[-5, 4],[-5, -4],[-5, -5],[-4, 5],[-5, 5]])/5\n",
    "K = 4\n",
    "data, centers = kmeans(K, data)\n",
    "print(data)\n",
    "print(centers)"
   ]
  },
  {
   "cell_type": "code",
   "execution_count": 37,
   "metadata": {},
   "outputs": [
    {
     "data": {
      "image/png": "[encoded data removed]",
      "text/plain": [
       "<Figure size 432x288 with 1 Axes>"
      ]
     },
     "metadata": {
      "needs_background": "light"
     },
     "output_type": "display_data"
    }
   ],
   "source": [
    "color=['blue','green','cyan','black']\n",
    "num_rows = data.shape[0]\n",
    "for i in range(num_rows):\n",
    "    k = int(data[i][2]) \n",
    "    plt.scatter(data[i][0],data[i][1],c=color[k])\n",
    "\n",
    "for i in range(K):\n",
    "    plt.scatter(centers[i][0],centers[i][1],c='red')\n",
    "plt.xlabel('X')\n",
    "plt.ylabel('Y')\n",
    "plt.show()"
   ]
  },
  {
   "cell_type": "code",
   "execution_count": 24,
   "metadata": {},
   "outputs": [
    {
     "name": "stdout",
     "output_type": "stream",
     "text": [
      "[[1.78500000e+04 0.00000000e+00 3.49559634e+01 ... 3.40000000e+01\n",
      "  1.56554118e+02 0.00000000e+00]\n",
      " [1.30470000e+04 8.95342076e+00 2.86888688e+01 ... 1.00000000e+01\n",
      "  3.09580000e+02 0.00000000e+00]\n",
      " [1.25830000e+04 2.00050366e+01 1.43794505e+01 ... 1.50000000e+01\n",
      "  4.79156000e+02 0.00000000e+00]\n",
      " ...\n",
      " [1.32980000e+04 0.00000000e+00 0.00000000e+00 ... 1.00000000e+00\n",
      "  3.60000000e+02 0.00000000e+00]\n",
      " [1.45690000e+04 0.00000000e+00 1.09503496e+01 ... 1.00000000e+00\n",
      "  2.27390000e+02 0.00000000e+00]\n",
      " [1.27130000e+04 1.07312474e+01 1.48135054e+01 ... 1.00000000e+00\n",
      "  8.48550000e+02 0.00000000e+00]]\n",
      "[array([1.53107281e+04, 1.44009750e+01, 2.16311317e+01, 1.67974917e+01,\n",
      "       2.53699895e+01, 2.15159171e+01, 1.17278552e+03, 2.34658097e+02,\n",
      "       4.71210102e+02, 3.57871029e+00, 3.40656541e+02]), array([ 1.63740000e+04,  6.69633975e+00,  4.31768943e+01,  1.53914741e+01,\n",
      "        1.85965262e+01,  1.61387657e+01,  2.69607960e+05, -6.29000000e+01,\n",
      "        2.12419600e+04,  6.75000000e+01,  4.02753497e+03]), array([ 1.38273333e+04,  1.11185392e+01,  2.45381245e+01,  2.18038923e+01,\n",
      "        2.23032480e+01,  2.02361959e+01,  1.24716373e+05, -1.33276667e+02,\n",
      "        1.37823167e+04,  9.26666667e+01,  2.88031821e+03]), array([ 1.54938462e+04,  1.08104216e+01,  2.41903933e+01,  1.50009643e+01,\n",
      "        2.04543042e+01,  2.95439166e+01,  5.92683662e+04, -1.63507692e+01,\n",
      "        7.24195077e+03,  5.27692308e+01,  1.70011781e+03]), array([ 1.74500000e+04,  5.21337219e+00,  9.94079485e+00,  3.06404298e+01,\n",
      "        1.62253664e+01,  3.79800368e+01,  1.93332830e+05, -8.48000000e+01,\n",
      "        3.07570000e+04,  4.70000000e+01,  4.11346447e+03]), array([1.48301471e+04, 1.01129426e+01, 2.27077403e+01, 1.91310722e+01,\n",
      "       2.19365008e+01, 2.61117440e+01, 1.52952180e+04, 1.43242843e+02,\n",
      "       3.02453275e+03, 2.34411765e+01, 1.08413383e+03])]\n"
     ]
    }
   ],
   "source": [
    "df_products = pd.read_csv(\"df_phase9.csv\",encoding=\"latin1\")\n",
    "df_products_inp = df_products.drop([\"CustomerID\",df_products.columns[0]],axis=1)\n",
    "df_products_inp = df_products.drop([\"CountryID\",df_products.columns[0]],axis=1)\n",
    "df_products_np = df_products_inp.to_numpy()\n",
    "\n",
    "data, centers = kmeans(6,df_products_np)\n",
    "\n",
    "print(data)\n",
    "print(centers)"
   ]
  },
  {
   "cell_type": "code",
   "execution_count": 9,
   "metadata": {},
   "outputs": [
    {
     "name": "stdout",
     "output_type": "stream",
     "text": [
      "0.0\n"
     ]
    },
    {
     "data": {
      "image/png": "[encoded data removed]",
      "text/plain": [
       "<Figure size 432x288 with 1 Axes>"
      ]
     },
     "metadata": {
      "needs_background": "light"
     },
     "output_type": "display_data"
    }
   ],
   "source": [
    "bins = np.arange(-100, 100, 1) # fixed bin size\n",
    "print(min(data[:,-1]))\n",
    "plt.xlim([min(data[:,-1])-5, 20])\n",
    "\n",
    "plt.hist(data[:,-1], bins=bins, alpha=0.5)\n",
    "plt.show()\n"
   ]
  },
  {
   "cell_type": "code",
   "execution_count": 31,
   "metadata": {},
   "outputs": [
    {
     "name": "stdout",
     "output_type": "stream",
     "text": [
      "0.0    4218\n",
      "5.0     102\n",
      "3.0      13\n",
      "2.0       3\n",
      "1.0       2\n",
      "4.0       1\n",
      "dtype: int64\n"
     ]
    }
   ],
   "source": [
    "print(pd.Series(data[:,-1]).value_counts())"
   ]
  }
 ],
 "metadata": {
  "interpreter": {
   "hash": "916dbcbb3f70747c44a77c7bcd40155683ae19c65e1c03b4aa3499c5328201f1"
  },
  "kernelspec": {
   "display_name": "Python 3.8.10 64-bit",
   "language": "python",
   "name": "python3"
  },
  "language_info": {
   "codemirror_mode": {
    "name": "ipython",
    "version": 3
   },
   "file_extension": ".py",
   "mimetype": "text/x-python",
   "name": "python",
   "nbconvert_exporter": "python",
   "pygments_lexer": "ipython3",
   "version": "3.9.7"
  },
  "orig_nbformat": 4
 },
 "nbformat": 4,
 "nbformat_minor": 2
}
