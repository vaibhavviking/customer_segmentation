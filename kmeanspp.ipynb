{
 "cells": [
  {
   "cell_type": "markdown",
   "metadata": {},
   "source": [
    "### Import Libraries"
   ]
  },
  {
   "cell_type": "code",
   "execution_count": 2,
   "metadata": {},
   "outputs": [],
   "source": [
    "import numpy as np\n",
    "import pandas as pd\n",
    "from numpy import random"
   ]
  },
  {
   "cell_type": "markdown",
   "metadata": {},
   "source": [
    "### Compute distance between two points"
   ]
  },
  {
   "cell_type": "code",
   "execution_count": 24,
   "metadata": {},
   "outputs": [],
   "source": [
    "# Input\n",
    "# point1\n",
    "# point2\n",
    "# Output\n",
    "# distance between point1 and point2\n",
    "def compute_distance(point1, point2):\n",
    "    dim = len(point2)\n",
    "    sum = 0\n",
    "    for i in range(dim):\n",
    "        sum = sum + ((point1[i] - point2[i])**2)\n",
    "    return sum"
   ]
  },
  {
   "cell_type": "markdown",
   "metadata": {},
   "source": [
    "### Assign centers to each data point"
   ]
  },
  {
   "cell_type": "code",
   "execution_count": 38,
   "metadata": {},
   "outputs": [],
   "source": [
    "# Input\n",
    "# centers: existing centroids\n",
    "# data: numpy array containing all data points\n",
    "# Output\n",
    "# indices of nearest centers\n",
    "def assign_centers(centers, data):\n",
    "    distance_from_centers = []\n",
    "    num_of_rows = data.shape[0]\n",
    "    num_of_centers = len(centers)\n",
    "    for i in range(num_of_rows):\n",
    "        point = data[i]\n",
    "        final_distance = -1\n",
    "        for j in range(num_of_centers):\n",
    "            center = centers[j]\n",
    "            distance = compute_distance(point, center)\n",
    "            if final_distance == -1:\n",
    "                final_distance = distance\n",
    "            elif distance < final_distance:\n",
    "                final_distance = distance\n",
    "        distance_from_centers.append(final_distance)\n",
    "    return distance_from_centers\n"
   ]
  },
  {
   "cell_type": "markdown",
   "metadata": {},
   "source": [
    "### Compute new centroid"
   ]
  },
  {
   "cell_type": "code",
   "execution_count": 31,
   "metadata": {},
   "outputs": [],
   "source": [
    "# Input\n",
    "# centers: existing centroids\n",
    "# data: numpy array containing all data points\n",
    "# Output\n",
    "# new centroid\n",
    "def get_point(centers, data):\n",
    "    distance_from_centers = assign_centers(centers, data)\n",
    "    max_distance = -1\n",
    "    new_centroid = -1\n",
    "    for i in range(len(distance_from_centers)):\n",
    "        if distance_from_centers[i] > max_distance:\n",
    "            max_distance = distance_from_centers[i]\n",
    "            new_centroid = i\n",
    "    return data[new_centroid]"
   ]
  },
  {
   "cell_type": "markdown",
   "metadata": {},
   "source": [
    "### Driver function to generate centers"
   ]
  },
  {
   "cell_type": "code",
   "execution_count": 36,
   "metadata": {},
   "outputs": [],
   "source": [
    "# Input\n",
    "# K: Number of clusters\n",
    "# data: numpy array containing all data points\n",
    "# Output\n",
    "# centers : 2D numpy array containing initial data points\n",
    "def kmeanspp(K, data):\n",
    "    num_of_rows = data.shape[0]\n",
    "    centers = []\n",
    "    first_point_index = random.randint(num_of_rows - 1)\n",
    "    centers.append(data[first_point_index])\n",
    "    for i in range(1, K):\n",
    "        point = get_point(centers, data)\n",
    "        centers.append(point)\n",
    "    return centers\n"
   ]
  },
  {
   "cell_type": "markdown",
   "metadata": {},
   "source": [
    "### Tests"
   ]
  },
  {
   "cell_type": "code",
   "execution_count": 39,
   "metadata": {},
   "outputs": [
    {
     "name": "stdout",
     "output_type": "stream",
     "text": [
      "First index: 4\n",
      "[array([4, 4]), array([-2, -2]), array([8, 8])]\n"
     ]
    }
   ],
   "source": [
    "data = np.array([[-2, -2], [5, 5], [1, 1], [2, 2], [4, 4], [8, 8], [-1, -1]])\n",
    "K = 3\n",
    "centers = kmeanspp(K, data)\n",
    "print(centers)"
   ]
  }
 ],
 "metadata": {
  "interpreter": {
   "hash": "916dbcbb3f70747c44a77c7bcd40155683ae19c65e1c03b4aa3499c5328201f1"
  },
  "kernelspec": {
   "display_name": "Python 3.8.10 64-bit",
   "language": "python",
   "name": "python3"
  },
  "language_info": {
   "codemirror_mode": {
    "name": "ipython",
    "version": 3
   },
   "file_extension": ".py",
   "mimetype": "text/x-python",
   "name": "python",
   "nbconvert_exporter": "python",
   "pygments_lexer": "ipython3",
   "version": "3.8.10"
  },
  "orig_nbformat": 4
 },
 "nbformat": 4,
 "nbformat_minor": 2
}
