{
 "cells": [
  {
   "cell_type": "markdown",
   "metadata": {},
   "source": [
    "### Import Libraries"
   ]
  },
  {
   "cell_type": "code",
   "execution_count": 1,
   "metadata": {},
   "outputs": [],
   "source": [
    "import numpy as np\n",
    "import pandas as pd\n",
    "import import_ipynb\n",
    "import matplotlib.pyplot as plt"
   ]
  },
  {
   "cell_type": "code",
   "execution_count": 2,
   "metadata": {},
   "outputs": [
    {
     "name": "stdout",
     "output_type": "stream",
     "text": [
      "importing Jupyter notebook from kmeans.ipynb\n",
      "importing Jupyter notebook from kmeanspp.ipynb\n",
      "[array([5, 5]), array([-2, -2]), array([1, 1])]\n",
      "[[ 0.8  1.   2. ]\n",
      " [ 0.8 -1.   1. ]\n",
      " [-1.   1.2  0. ]\n",
      " [ 1.  -1.2  1. ]\n",
      " [-0.8 -1.   3. ]\n",
      " [ 1.   0.8  2. ]\n",
      " [-1.  -1.2  3. ]\n",
      " [ 1.   1.2  2. ]\n",
      " [ 1.  -0.8  1. ]\n",
      " [ 1.   1.   2. ]\n",
      " [ 1.  -1.   1. ]\n",
      " [-1.   0.8  0. ]\n",
      " [-1.  -0.8  3. ]\n",
      " [-1.  -1.   3. ]\n",
      " [-0.8  1.   0. ]\n",
      " [-1.   1.   0. ]]\n",
      "[array([-0.95,  1.  ]), array([ 0.95, -1.  ]), array([0.95, 1.  ]), array([-0.95, -1.  ])]\n"
     ]
    },
    {
     "data": {
      "image/png": "[encoded data removed]",
      "text/plain": [
       "<Figure size 432x288 with 1 Axes>"
      ]
     },
     "metadata": {
      "needs_background": "light"
     },
     "output_type": "display_data"
    },
    {
     "name": "stdout",
     "output_type": "stream",
     "text": [
      "[[1.78500000e+04 0.00000000e+00 0.00000000e+00 ... 3.40000000e+01\n",
      "  1.54285217e+02 0.00000000e+00]\n",
      " [1.30470000e+04 0.00000000e+00 0.00000000e+00 ... 1.00000000e+01\n",
      "  2.94838095e+02 0.00000000e+00]\n",
      " [1.25830000e+04 0.00000000e+00 0.00000000e+00 ... 1.50000000e+01\n",
      "  4.63699355e+02 0.00000000e+00]\n",
      " ...\n",
      " [1.32980000e+04 0.00000000e+00 0.00000000e+00 ... 1.00000000e+00\n",
      "  2.40000000e+02 0.00000000e+00]\n",
      " [1.45690000e+04 0.00000000e+00 0.00000000e+00 ... 1.00000000e+00\n",
      "  1.51593333e+02 0.00000000e+00]\n",
      " [1.27130000e+04 0.00000000e+00 0.00000000e+00 ... 1.00000000e+00\n",
      "  5.65700000e+02 0.00000000e+00]]\n",
      "[array([1.53107281e+04, 0.00000000e+00, 0.00000000e+00, 0.00000000e+00,\n",
      "       0.00000000e+00, 0.00000000e+00, 1.17278552e+03, 1.24295242e+02,\n",
      "       4.71210102e+02, 3.57871029e+00, 2.71865491e+02]), array([1.63740000e+04, 0.00000000e+00, 0.00000000e+00, 0.00000000e+00,\n",
      "       0.00000000e+00, 0.00000000e+00, 2.69607960e+05, 0.00000000e+00,\n",
      "       2.12419600e+04, 6.75000000e+01, 3.99730969e+03]), array([1.38273333e+04, 0.00000000e+00, 0.00000000e+00, 0.00000000e+00,\n",
      "       0.00000000e+00, 0.00000000e+00, 1.24716373e+05, 0.00000000e+00,\n",
      "       1.37823167e+04, 9.26666667e+01, 2.82787910e+03]), array([1.54938462e+04, 0.00000000e+00, 0.00000000e+00, 0.00000000e+00,\n",
      "       0.00000000e+00, 0.00000000e+00, 5.92683662e+04, 0.00000000e+00,\n",
      "       7.24195077e+03, 5.27692308e+01, 1.66634807e+03]), array([1.74500000e+04, 0.00000000e+00, 0.00000000e+00, 0.00000000e+00,\n",
      "       0.00000000e+00, 0.00000000e+00, 1.93332830e+05, 0.00000000e+00,\n",
      "       3.07570000e+04, 4.70000000e+01, 4.07016484e+03]), array([14830.14705882,     0.        ,     0.        ,     0.        ,\n",
      "           0.        ,     0.        , 15295.21803922,     0.        ,\n",
      "        3024.5327451 ,    23.44117647,  1010.72502943])]\n",
      "0.0\n"
     ]
    },
    {
     "data": {
      "image/png": "[encoded data removed]",
      "text/plain": [
       "<Figure size 432x288 with 1 Axes>"
      ]
     },
     "metadata": {
      "needs_background": "light"
     },
     "output_type": "display_data"
    },
    {
     "name": "stdout",
     "output_type": "stream",
     "text": [
      "0.0    4218\n",
      "5.0     102\n",
      "3.0      13\n",
      "2.0       3\n",
      "1.0       2\n",
      "4.0       1\n",
      "dtype: int64\n"
     ]
    }
   ],
   "source": [
    "from kmeans import kmeans\n",
    "from kmeanspp import compute_distance"
   ]
  },
  {
   "cell_type": "markdown",
   "metadata": {},
   "source": [
    "## K-Means Testing"
   ]
  },
  {
   "cell_type": "markdown",
   "metadata": {},
   "source": [
    "### Calculate Inertia"
   ]
  },
  {
   "cell_type": "code",
   "execution_count": 3,
   "metadata": {},
   "outputs": [],
   "source": [
    "# Input\n",
    "# centers: array containing all centroids\n",
    "# clustered_data: all data points along with it's cluster\n",
    "# Output\n",
    "# Inertia\n",
    "def calculate_inertia(centers, clustered_data):\n",
    "    inertia = 0\n",
    "    num_rows = clustered_data.shape[0]\n",
    "    for i in range(num_rows):\n",
    "        cluster_index = int(clustered_data[i][-1])\n",
    "        center = centers[cluster_index]\n",
    "        point = clustered_data[i][:-1]\n",
    "        inertia += compute_distance(point, center)\n",
    "    return inertia\n"
   ]
  },
  {
   "cell_type": "markdown",
   "metadata": {},
   "source": [
    "### Calculate Dunn Index"
   ]
  },
  {
   "cell_type": "code",
   "execution_count": 4,
   "metadata": {},
   "outputs": [],
   "source": [
    "# Input\n",
    "# centers: array containing all centroids\n",
    "# clustered_data: all data points along with it's cluster\n",
    "# Output\n",
    "# Dunn Index\n",
    "def calculate_dunn_index(centers):\n",
    "    if len(centers) < 2:\n",
    "        return 1\n",
    "    dist = []\n",
    "    num_centers = len(centers)\n",
    "    for i in range(num_centers):\n",
    "        for j in range(i+1, num_centers):\n",
    "            dist.append(compute_distance(centers[i], centers[j]))\n",
    "    min_dist = dist[0]\n",
    "    max_dist = dist[0]\n",
    "    for i in range(1, len(dist)):\n",
    "        min_dist = min(min_dist, dist[i])\n",
    "        max_dist = max(max_dist, dist[i])\n",
    "    return min_dist / max_dist"
   ]
  },
  {
   "cell_type": "markdown",
   "metadata": {},
   "source": [
    "### Plot Inertia and Dunn Index vs K"
   ]
  },
  {
   "cell_type": "code",
   "execution_count": 5,
   "metadata": {},
   "outputs": [],
   "source": [
    "def plotGraphs(data, maxK = 10):\n",
    "    inertias = []\n",
    "    dunn_indices = []\n",
    "    Ks = range(1, maxK + 1)\n",
    "    for i in range(1, maxK + 1):\n",
    "        clustered_data, centers = kmeans(i, data)\n",
    "        inertia = calculate_inertia(centers, clustered_data)\n",
    "        dunn_index = calculate_dunn_index(centers)\n",
    "        inertias.append(inertia)\n",
    "        dunn_indices.append(dunn_index)\n",
    "        print(inertia)\n",
    "        print(dunn_index)\n",
    "    plt.plot(Ks, inertias)\n",
    "    plt.xlabel(\"K\")\n",
    "    plt.ylabel(\"Inertia\")\n",
    "    plt.show()\n",
    "    plt.plot(Ks, dunn_indices)\n",
    "    plt.xlabel(\"K\")\n",
    "    plt.ylabel(\"Dunn Index\")\n",
    "    plt.show()"
   ]
  },
  {
   "cell_type": "code",
   "execution_count": 18,
   "metadata": {},
   "outputs": [
    {
     "data": {
      "text/plain": [
       "Index(['root-1', 'root-2', 'root-3', 'root-4', 'root-5', 'root-6', 'root-7',\n",
       "       'root-8', 'root-9', 'root-10',\n",
       "       ...\n",
       "       'root-182', 'root-183', 'root-184', 'root-185', 'priceRange-1',\n",
       "       'priceRange-2', 'priceRange-3', 'priceRange-4', 'priceRange-5',\n",
       "       'priceRange-6'],\n",
       "      dtype='object', length=191)"
      ]
     },
     "execution_count": 18,
     "metadata": {},
     "output_type": "execute_result"
    }
   ],
   "source": [
    "df_products = pd.read_csv(\"df_products.csv\",encoding=\"latin1\")\n",
    "df_products_inp = df_products.drop([\"StockCode\",\"Description\",df_products.columns[0]],axis=1)\n",
    "df_products_np = df_products_inp.to_numpy()\n",
    "df_products_inp.columns"
   ]
  },
  {
   "cell_type": "code",
   "execution_count": null,
   "metadata": {},
   "outputs": [],
   "source": [
    "df_products_inp = df_products.drop([\"CustomerID\",df_products.columns[0]],axis=1)\n",
    "df_products_inp"
   ]
  },
  {
   "cell_type": "code",
   "execution_count": 20,
   "metadata": {},
   "outputs": [
    {
     "name": "stdout",
     "output_type": "stream",
     "text": [
      "[[1 1 0 ... 0 0 0]\n",
      " [0 0 1 ... 1 0 0]\n",
      " [1 0 0 ... 1 0 0]\n",
      " ...\n",
      " [0 0 0 ... 0 0 0]\n",
      " [0 0 0 ... 0 0 0]\n",
      " [0 0 0 ... 0 0 0]]\n"
     ]
    }
   ],
   "source": [
    "df_products_np = df_products_inp.to_numpy()\n",
    "print(df_products_np)"
   ]
  },
  {
   "cell_type": "code",
   "execution_count": 21,
   "metadata": {},
   "outputs": [
    {
     "name": "stdout",
     "output_type": "stream",
     "text": [
      "9152.847476125464\n",
      "1\n",
      "9041.874138202887\n",
      "1.0\n",
      "8400.314616430165\n",
      "0.6654901696709178\n",
      "7600.169226240195\n",
      "0.3730968758017211\n",
      "8210.032188415507\n",
      "0.21127902242221994\n",
      "8238.829367526354\n",
      "0.18673792009531817\n",
      "6849.220816600461\n",
      "0.2739764523047154\n",
      "7262.0410526844225\n",
      "0.23992012898636722\n",
      "6835.606388682105\n",
      "0.15029171492259955\n",
      "7150.744891356392\n",
      "0.18003563371858317\n"
     ]
    },
    {
     "data": {
      "image/png": "[encoded data removed]",
      "text/plain": [
       "<Figure size 432x288 with 1 Axes>"
      ]
     },
     "metadata": {
      "needs_background": "light"
     },
     "output_type": "display_data"
    },
    {
     "data": {
      "image/png": "[encoded data removed]",
      "text/plain": [
       "<Figure size 432x288 with 1 Axes>"
      ]
     },
     "metadata": {
      "needs_background": "light"
     },
     "output_type": "display_data"
    }
   ],
   "source": [
    "plotGraphs(df_products_np,10)"
   ]
  },
  {
   "cell_type": "markdown",
   "metadata": {},
   "source": [
    "Optimal number of product categories = 5"
   ]
  },
  {
   "cell_type": "markdown",
   "metadata": {},
   "source": []
  },
  {
   "cell_type": "code",
   "execution_count": 27,
   "metadata": {},
   "outputs": [
    {
     "data": {
      "text/plain": [
       "Index(['Category-0', 'Category-1', 'Category-2', 'Category-3', 'Category-4',\n",
       "       'Total Expenditure', 'Min Expenditure', 'Max Expenditure',\n",
       "       'No. of Invoices', 'Mean Expenditure'],\n",
       "      dtype='object')"
      ]
     },
     "execution_count": 27,
     "metadata": {},
     "output_type": "execute_result"
    }
   ],
   "source": [
    "df_phase9 = pd.read_csv(\"df_phase9.csv\",encoding=\"latin1\")\n",
    "df_phase9_inp = df_phase9.drop([\"CustomerID\",\"CountryID\",df_phase9.columns[0]],axis=1)\n",
    "df_phase9_np = df_phase9_inp.to_numpy()\n",
    "df_phase9_inp.columns"
   ]
  },
  {
   "cell_type": "code",
   "execution_count": 28,
   "metadata": {},
   "outputs": [
    {
     "name": "stdout",
     "output_type": "stream",
     "text": [
      "311361299563.0975\n",
      "1\n",
      "108836100865.1144\n",
      "1.0\n",
      "53852921484.225655\n",
      "0.07882622071961187\n",
      "35380403128.38589\n",
      "0.02477657999603453\n",
      "30565720937.545303\n",
      "0.02294789913904302\n",
      "18789470764.127296\n",
      "0.0026082015814101636\n",
      "18441792129.143528\n",
      "0.0026082015814101636\n",
      "18237652740.479958\n",
      "0.002425681966749548\n",
      "10137559367.706266\n",
      "0.00047565744746958785\n",
      "9933419979.042698\n",
      "0.00044240402628494127\n"
     ]
    },
    {
     "data": {
      "image/png": "[encoded data removed]",
      "text/plain": [
       "<Figure size 432x288 with 1 Axes>"
      ]
     },
     "metadata": {
      "needs_background": "light"
     },
     "output_type": "display_data"
    },
    {
     "data": {
      "image/png": "[encoded data removed]",
      "text/plain": [
       "<Figure size 432x288 with 1 Axes>"
      ]
     },
     "metadata": {
      "needs_background": "light"
     },
     "output_type": "display_data"
    }
   ],
   "source": [
    "plotGraphs(df_phase9_np,10)"
   ]
  }
 ],
 "metadata": {
  "interpreter": {
   "hash": "916dbcbb3f70747c44a77c7bcd40155683ae19c65e1c03b4aa3499c5328201f1"
  },
  "kernelspec": {
   "display_name": "Python 3.8.10 64-bit",
   "language": "python",
   "name": "python3"
  },
  "language_info": {
   "codemirror_mode": {
    "name": "ipython",
    "version": 3
   },
   "file_extension": ".py",
   "mimetype": "text/x-python",
   "name": "python",
   "nbconvert_exporter": "python",
   "pygments_lexer": "ipython3",
   "version": "3.9.7"
  },
  "orig_nbformat": 4
 },
 "nbformat": 4,
 "nbformat_minor": 2
}
