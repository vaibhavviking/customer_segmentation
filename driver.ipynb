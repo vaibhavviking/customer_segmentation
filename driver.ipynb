{
 "cells": [
  {
   "cell_type": "markdown",
   "metadata": {},
   "source": [
    "### Import Libraries"
   ]
  },
  {
   "cell_type": "code",
   "execution_count": 1,
   "metadata": {},
   "outputs": [],
   "source": [
    "import numpy as np\n",
    "import pandas as pd\n",
    "import import_ipynb\n",
    "import matplotlib.pyplot as plt"
   ]
  },
  {
   "cell_type": "code",
   "execution_count": null,
   "metadata": {},
   "outputs": [],
   "source": [
    "from kmeans import kmeans\n",
    "from kmeanspp import compute_distance"
   ]
  },
  {
   "cell_type": "markdown",
   "metadata": {},
   "source": [
    "## K-Means Testing"
   ]
  },
  {
   "cell_type": "markdown",
   "metadata": {},
   "source": [
    "### Calculate Inertia"
   ]
  },
  {
   "cell_type": "code",
   "execution_count": 3,
   "metadata": {},
   "outputs": [],
   "source": [
    "# Input\n",
    "# centers: array containing all centroids\n",
    "# clustered_data: all data points along with it's cluster\n",
    "# Output\n",
    "# Inertia\n",
    "def calculate_inertia(centers, clustered_data):\n",
    "    inertia = 0\n",
    "    num_rows = clustered_data.shape[0]\n",
    "    for i in range(num_rows):\n",
    "        cluster_index = int(clustered_data[i][-1])\n",
    "        center = centers[cluster_index]\n",
    "        point = clustered_data[i][:-1]\n",
    "        inertia += compute_distance(point, center)\n",
    "    return inertia\n"
   ]
  },
  {
   "cell_type": "markdown",
   "metadata": {},
   "source": [
    "### Calculate Dunn Index"
   ]
  },
  {
   "cell_type": "code",
   "execution_count": 4,
   "metadata": {},
   "outputs": [],
   "source": [
    "# Input\n",
    "# centers: array containing all centroids\n",
    "# clustered_data: all data points along with it's cluster\n",
    "# Output\n",
    "# Dunn Index\n",
    "def calculate_dunn_index(centers):\n",
    "    if len(centers) < 2:\n",
    "        return 1\n",
    "    dist = []\n",
    "    num_centers = len(centers)\n",
    "    for i in range(num_centers):\n",
    "        for j in range(i+1, num_centers):\n",
    "            dist.append(compute_distance(centers[i], centers[j]))\n",
    "    min_dist = dist[0]\n",
    "    max_dist = dist[0]\n",
    "    for i in range(1, len(dist)):\n",
    "        min_dist = min(min_dist, dist[i])\n",
    "        max_dist = max(max_dist, dist[i])\n",
    "    return min_dist / max_dist"
   ]
  },
  {
   "cell_type": "markdown",
   "metadata": {},
   "source": [
    "### Plot Inertia and Dunn Index vs K"
   ]
  },
  {
   "cell_type": "code",
   "execution_count": 5,
   "metadata": {},
   "outputs": [],
   "source": [
    "def plotGraphs(data, maxK = 10):\n",
    "    inertias = []\n",
    "    dunn_indices = []\n",
    "    Ks = range(1, maxK + 1)\n",
    "    for i in range(1, maxK + 1):\n",
    "        clustered_data, centers = kmeans(i, data)\n",
    "        inertia = calculate_inertia(centers, clustered_data)\n",
    "        dunn_index = calculate_dunn_index(centers)\n",
    "        inertias.append(inertia)\n",
    "        dunn_indices.append(dunn_index)\n",
    "        print(inertia)\n",
    "        print(dunn_index)\n",
    "    plt.plot(Ks, inertias)\n",
    "    plt.xlabel(\"K\")\n",
    "    plt.ylabel(\"Inertia\")\n",
    "    plt.show()\n",
    "    plt.plot(Ks, dunn_indices)\n",
    "    plt.xlabel(\"K\")\n",
    "    plt.ylabel(\"Dunn Index\")\n",
    "    plt.show()"
   ]
  },
  {
   "cell_type": "code",
   "execution_count": 10,
   "metadata": {},
   "outputs": [],
   "source": [
    "df_products = pd.read_csv(\"df_phase9.csv\",encoding=\"latin1\")\n",
    "df_products_inp = df_products.drop([\"CustomerID\",df_products.columns[0]],axis=1)\n",
    "df_products_np = df_products_inp.to_numpy()"
   ]
  },
  {
   "cell_type": "code",
   "execution_count": null,
   "metadata": {},
   "outputs": [],
   "source": [
    "df_products_inp = df_products.drop([\"CustomerID\",df_products.columns[0]],axis=1)\n",
    "df_products_inp"
   ]
  },
  {
   "cell_type": "code",
   "execution_count": 8,
   "metadata": {},
   "outputs": [
    {
     "name": "stdout",
     "output_type": "stream",
     "text": [
      "(4339, 11)\n"
     ]
    }
   ],
   "source": [
    "df_products_np = df_products_inp.to_numpy()\n",
    "print(df_products_np.shape)"
   ]
  },
  {
   "cell_type": "code",
   "execution_count": 11,
   "metadata": {},
   "outputs": [
    {
     "name": "stdout",
     "output_type": "stream",
     "text": [
      "311159371853.658\n",
      "1\n",
      "108887590179.261\n",
      "1.0\n",
      "53892290000.44654\n",
      "0.07877530604132506\n",
      "35516631722.12838\n",
      "0.024749016540058406\n",
      "30683703651.710354\n",
      "0.022919064760177986\n",
      "18947377205.465626\n",
      "0.002821685282799405\n",
      "18610555304.694874\n",
      "0.002821685282799405\n",
      "11094584439.501968\n",
      "0.000386352054752986\n",
      "10269481953.084421\n",
      "0.000386352054752986\n",
      "10069367153.86364\n",
      "0.0003596028239927227\n"
     ]
    },
    {
     "data": {
      "image/png": "[encoded data removed]",
      "text/plain": [
       "<Figure size 432x288 with 1 Axes>"
      ]
     },
     "metadata": {
      "needs_background": "light"
     },
     "output_type": "display_data"
    },
    {
     "data": {
      "image/png": "[encoded data removed]",
      "text/plain": [
       "<Figure size 432x288 with 1 Axes>"
      ]
     },
     "metadata": {
      "needs_background": "light"
     },
     "output_type": "display_data"
    }
   ],
   "source": [
    "plotGraphs(df_products_np,10)"
   ]
  },
  {
   "cell_type": "markdown",
   "metadata": {},
   "source": [
    "Optimal number of product categories = 5"
   ]
  },
  {
   "cell_type": "markdown",
   "metadata": {},
   "source": []
  },
  {
   "cell_type": "code",
   "execution_count": null,
   "metadata": {},
   "outputs": [],
   "source": [
    "print(pd.Series(data[:,-1]).value_counts())"
   ]
  }
 ],
 "metadata": {
  "interpreter": {
   "hash": "916dbcbb3f70747c44a77c7bcd40155683ae19c65e1c03b4aa3499c5328201f1"
  },
  "kernelspec": {
   "display_name": "Python 3.8.10 64-bit",
   "language": "python",
   "name": "python3"
  },
  "language_info": {
   "codemirror_mode": {
    "name": "ipython",
    "version": 3
   },
   "file_extension": ".py",
   "mimetype": "text/x-python",
   "name": "python",
   "nbconvert_exporter": "python",
   "pygments_lexer": "ipython3",
   "version": "3.9.7"
  },
  "orig_nbformat": 4
 },
 "nbformat": 4,
 "nbformat_minor": 2
}
