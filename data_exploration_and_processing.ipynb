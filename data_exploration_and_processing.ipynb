{
 "cells": [
  {
   "cell_type": "code",
   "execution_count": null,
   "metadata": {},
   "outputs": [],
   "source": [
    "import numpy as np\n",
    "import pandas as pd\n",
    "import matplotlib.pyplot as plt\n"
   ]
  },
  {
   "cell_type": "code",
   "execution_count": null,
   "metadata": {},
   "outputs": [],
   "source": [
    "df_initial = pd.read_csv('./data.csv',encoding='latin1',dtype={'CustomerID': str,'InvoiceID': str})\n",
    "df_initial['InvoiceDate'] = pd.to_datetime(df_initial['InvoiceDate'])\n",
    "print('Dataframe dimensions:', df_initial.shape)\n",
    "\n",
    "tab_info=pd.DataFrame(df_initial.dtypes).T.rename(index={0:'column type'})\n",
    "tab_info=tab_info.append(pd.DataFrame(df_initial.isnull().sum()).T.rename(index={0:'null values (nb)'}))\n",
    "tab_info=tab_info.append(pd.DataFrame(df_initial.isnull().sum()/df_initial.shape[0]*100).T.rename(index={0:'null values (%)'}))\n",
    "print(tab_info)"
   ]
  },
  {
   "cell_type": "code",
   "execution_count": null,
   "metadata": {},
   "outputs": [],
   "source": [
    "df_initial.head()"
   ]
  },
  {
   "cell_type": "code",
   "execution_count": null,
   "metadata": {},
   "outputs": [],
   "source": [
    "# Remove entries for customer ID NULL\n",
    "df_initial.dropna(axis = 0, subset = ['CustomerID'], inplace = True)\n",
    "print('Dataframe dimensions:', df_initial.shape)\n",
    "\n",
    "tab_info=pd.DataFrame(df_initial.dtypes).T.rename(index={0:'column type'})\n",
    "tab_info=tab_info.append(pd.DataFrame(df_initial.isnull().sum()).T.rename(index={0:'null values (nb)'}))\n",
    "tab_info=tab_info.append(pd.DataFrame(df_initial.isnull().sum()/df_initial.shape[0]*100).T.rename(index={0:'null values (%)'}))\n",
    "print(tab_info)"
   ]
  },
  {
   "cell_type": "code",
   "execution_count": null,
   "metadata": {},
   "outputs": [],
   "source": [
    "df_initial.drop_duplicates(inplace = True)"
   ]
  },
  {
   "cell_type": "code",
   "execution_count": null,
   "metadata": {},
   "outputs": [],
   "source": [
    "print('Dataframe dimensions:', df_initial.shape)"
   ]
  },
  {
   "cell_type": "code",
   "execution_count": null,
   "metadata": {},
   "outputs": [],
   "source": [
    "country_to_index = {}\n",
    "count=0\n",
    "countries = df_initial[\"Country\"].to_numpy()\n",
    "for i in range(countries.shape[0]):\n",
    "    if countries[i] not in country_to_index:\n",
    "        country_to_index[countries[i]] = count\n",
    "        count+=1\n",
    "print(count)\n",
    "print(country_to_index)"
   ]
  },
  {
   "cell_type": "code",
   "execution_count": null,
   "metadata": {},
   "outputs": [],
   "source": [
    "df_initial = df_initial.drop(\"Country\", 1)"
   ]
  },
  {
   "cell_type": "code",
   "execution_count": null,
   "metadata": {},
   "outputs": [],
   "source": [
    "df_initial.head()"
   ]
  },
  {
   "cell_type": "code",
   "execution_count": null,
   "metadata": {},
   "outputs": [],
   "source": [
    "for i in range(countries.shape[0]):\n",
    "    countries[i] = country_to_index[countries[i]]\n",
    "df_initial[\"CountryID\"] = countries\n",
    "df_initial.tail()"
   ]
  },
  {
   "cell_type": "code",
   "execution_count": null,
   "metadata": {},
   "outputs": [],
   "source": [
    "df_phase2 = df_initial\n",
    "df_phase2"
   ]
  },
  {
   "cell_type": "code",
   "execution_count": null,
   "metadata": {},
   "outputs": [],
   "source": [
    "pd.DataFrame([{'products': len(df_initial['StockCode'].value_counts()),    \n",
    "               'transactions': len(df_initial['InvoiceNo'].value_counts()),\n",
    "               'customers': len(df_initial['CustomerID'].value_counts()),  \n",
    "              }], columns = ['products', 'transactions', 'customers'], index = ['quantity'])"
   ]
  },
  {
   "cell_type": "code",
   "execution_count": null,
   "metadata": {},
   "outputs": [],
   "source": [
    "# Grouping Rows if they belong to same invoice no and customer id\n",
    "temp = df_phase2.groupby(by=['CustomerID', 'InvoiceNo'], as_index=False)['InvoiceDate'].count()\n",
    "nb_products_per_basket = temp.rename(columns = {'InvoiceDate':'Number of products'})\n",
    "nb_products_per_basket[:10].sort_values('CustomerID')"
   ]
  },
  {
   "cell_type": "code",
   "execution_count": null,
   "metadata": {},
   "outputs": [],
   "source": [
    "df_cleaned = df_phase2.copy(deep = True)\n",
    "df_cleaned['QuantityCanceled'] = 0\n",
    "\n",
    "entry_to_remove = [] \n",
    "doubtfull_entry = []\n",
    "\n",
    "for index, col in  df_phase2.iterrows():\n",
    "    if (col['Quantity'] > 0) or col['Description'] == 'Discount': continue        \n",
    "    df_test = df_phase2[(df_phase2['CustomerID'] == col['CustomerID']) &\n",
    "                         (df_phase2['StockCode']  == col['StockCode']) & \n",
    "                         (df_phase2['InvoiceDate'] < col['InvoiceDate']) & \n",
    "                         (df_phase2['Quantity']   > 0)].copy()\n",
    "\n",
    "    # Cancelation WITHOUT counterpart\n",
    "    if (df_test.shape[0] == 0): \n",
    "        doubtfull_entry.append(index)\n",
    "\n",
    "    # Cancelation WITH a counterpart\n",
    "    elif (df_test.shape[0] == 1): \n",
    "        index_order = df_test.index[0]\n",
    "        df_cleaned.loc[index_order, 'QuantityCanceled'] = -col['Quantity']\n",
    "        entry_to_remove.append(index)        \n",
    "\n",
    "    # Various counterparts exist in orders: we delete the last one\n",
    "    elif (df_test.shape[0] > 1): \n",
    "        df_test.sort_index(axis=0 ,ascending=False, inplace = True)        \n",
    "        for ind, val in df_test.iterrows():\n",
    "            if val['Quantity'] < -col['Quantity']: continue\n",
    "            df_cleaned.loc[ind, 'QuantityCanceled'] = -col['Quantity']\n",
    "            entry_to_remove.append(index) \n",
    "            break        "
   ]
  },
  {
   "cell_type": "code",
   "execution_count": null,
   "metadata": {},
   "outputs": [],
   "source": [
    "print(len(doubtfull_entry))"
   ]
  },
  {
   "cell_type": "code",
   "execution_count": null,
   "metadata": {},
   "outputs": [],
   "source": [
    "df_cleaned.drop(entry_to_remove,axis=0,inplace=True)\n",
    "df_cleaned.drop(doubtfull_entry,axis=0,inplace=True)"
   ]
  },
  {
   "cell_type": "code",
   "execution_count": null,
   "metadata": {},
   "outputs": [],
   "source": [
    "print(df_cleaned.shape)"
   ]
  },
  {
   "cell_type": "code",
   "execution_count": null,
   "metadata": {},
   "outputs": [],
   "source": [
    "df_phase3 = df_cleaned"
   ]
  },
  {
   "cell_type": "code",
   "execution_count": null,
   "metadata": {},
   "outputs": [],
   "source": [
    "df_phase3[\"TotalPrice\"] = df_phase3[\"UnitPrice\"]*(df_phase3[\"Quantity\"] - df_phase3[\"QuantityCanceled\"])\n",
    "df_phase3"
   ]
  },
  {
   "cell_type": "code",
   "execution_count": null,
   "metadata": {},
   "outputs": [],
   "source": [
    "temp = df_phase3.groupby(by=['CustomerID', 'InvoiceNo'], as_index=False)['TotalPrice'].sum()\n",
    "basket_price = temp.rename(columns = {'TotalPrice':'Basket Price'})\n",
    "basket_price = basket_price[basket_price[\"Basket Price\"]>0]\n",
    "basket_price.head()"
   ]
  },
  {
   "cell_type": "code",
   "execution_count": null,
   "metadata": {},
   "outputs": [],
   "source": [
    "df_phase4 = pd.read_csv('basket_price.csv', encoding = 'latin1')\n",
    "df_phase4"
   ]
  },
  {
   "cell_type": "code",
   "execution_count": null,
   "metadata": {},
   "outputs": [],
   "source": [
    "df_phase3.to_csv(\"df_phase3.csv\")"
   ]
  },
  {
   "cell_type": "code",
   "execution_count": null,
   "metadata": {},
   "outputs": [],
   "source": [
    "from nltk.stem import WordNetLemmatizer\n",
    "import nltk\n",
    "nltk.download('punkt')\n",
    "nltk.download('averaged_perceptron_tagger')\n",
    "nltk.download('wordnet')\n",
    "lem = WordNetLemmatizer()"
   ]
  },
  {
   "cell_type": "code",
   "execution_count": null,
   "metadata": {},
   "outputs": [],
   "source": [
    "root_freq = {}\n",
    "stock_to_roots = {}\n",
    "root_to_index = {}\n",
    "count = 0\n",
    "\n",
    "def is_noun(pos):\n",
    "    if pos[:2] == 'NN':\n",
    "        return True\n",
    "    return False\n",
    "\n",
    "\n",
    "for i, row in df_phase3.iterrows():\n",
    "    if pd.isnull(desc):\n",
    "        continue \n",
    "    desc = row[\"Description\"]\n",
    "    desc = desc.lower()\n",
    "    stock = row[\"StockCode\"]\n",
    "    tokens = nltk.word_tokenize(desc)\n",
    "    nouns = [word for (word, pos) in nltk.pos_tag(tokens) if is_noun(pos)] \n",
    "    vis = {}\n",
    "    temp = []\n",
    "    for noun in nouns:\n",
    "        noun = noun.lower()\n",
    "        root = lem.lemmatize(noun)\n",
    "        if root not in root_freq:\n",
    "            root_freq[root] = 1\n",
    "            vis[root] = 1\n",
    "            temp.append(root)\n",
    "            root_to_index[root] = count \n",
    "            count += 1\n",
    "        elif root not in vis:\n",
    "            root_freq[root] += 1\n",
    "            vis[root] = 1\n",
    "            temp.append(root)\n",
    "    stock_to_roots[stock] = temp\n",
    "\n",
    "print(root_freq)"
   ]
  },
  {
   "cell_type": "code",
   "execution_count": null,
   "metadata": {},
   "outputs": [],
   "source": [
    "threshold = 1400\n",
    "print(len(root_freq))\n",
    "top_roots = {key:val for key, val in root_freq.items() if val >= threshold}\n",
    "print(len(top_roots))"
   ]
  },
  {
   "cell_type": "code",
   "execution_count": null,
   "metadata": {},
   "outputs": [],
   "source": [
    "c = 0\n",
    "pop_root_to_index = {}\n",
    "for key, val in top_roots.items():\n",
    "    pop_root_to_index[key] = c \n",
    "    c += 1\n",
    "print(pop_root_to_index)"
   ]
  },
  {
   "cell_type": "code",
   "execution_count": null,
   "metadata": {},
   "outputs": [],
   "source": [
    "list_products = df_phase3[\"StockCode\"].unique()"
   ]
  },
  {
   "cell_type": "code",
   "execution_count": null,
   "metadata": {},
   "outputs": [],
   "source": [
    "products_np = []\n",
    "mean_prices = []\n",
    "count_cat = [0 for _ in range(6)]\n",
    "for i,stock in enumerate(list_products):\n",
    "    desc = df_phase3[df_phase3[\"StockCode\"] == stock][\"Description\"].iloc[0]\n",
    "    temp = [stock, desc]\n",
    "    roots = stock_to_roots[stock]\n",
    "    t = [0 for i in range(len(top_roots))]\n",
    "    for root in roots:\n",
    "        if root in top_roots:\n",
    "            index = pop_root_to_index[root]\n",
    "            t[index] = 1\n",
    "    temp.extend(t)\n",
    "    mean_price = df_phase3[df_phase3[\"StockCode\"] == stock][\"UnitPrice\"].mean()\n",
    "    prod_cat = 0\n",
    "\n",
    "    if mean_price < 1:\n",
    "        prod_cat = 0\n",
    "    elif mean_price < 2:\n",
    "        prod_cat = 1\n",
    "    elif mean_price < 3:\n",
    "        prod_cat = 2\n",
    "    elif mean_price < 5:\n",
    "        prod_cat = 3\n",
    "    elif mean_price < 10:\n",
    "        prod_cat = 4\n",
    "    else:\n",
    "        prod_cat = 5\n",
    "\n",
    "    cat_list = [0 for _ in range(6)]\n",
    "    cat_list[prod_cat] = 1\n",
    "    temp.extend(cat_list)\n",
    "    mean_prices.append(mean_price)\n",
    "    count_cat[prod_cat]+=1\n",
    "    temp = np.array(temp)\n",
    "    # print(temp.shape)\n",
    "    products_np.append(temp)"
   ]
  },
  {
   "cell_type": "code",
   "execution_count": null,
   "metadata": {},
   "outputs": [],
   "source": [
    "bins = np.arange(-100, 100, 1) # fixed bin size\n",
    "print(min(mean_prices))\n",
    "plt.xlim([min(mean_prices)-5, 20])\n",
    "\n",
    "plt.hist(mean_prices, bins=bins, alpha=0.5)\n",
    "plt.show()\n",
    "\n"
   ]
  },
  {
   "cell_type": "code",
   "execution_count": null,
   "metadata": {},
   "outputs": [],
   "source": [
    "count_cat = np.array(count_cat)\n",
    "for i in range(6):\n",
    "    print(count_cat[i]/np.sum(count_cat) * 100, \"%\")\n"
   ]
  },
  {
   "cell_type": "code",
   "execution_count": null,
   "metadata": {},
   "outputs": [],
   "source": [
    "products_np = np.array(products_np)\n",
    "print(products_np.shape)"
   ]
  },
  {
   "cell_type": "code",
   "execution_count": null,
   "metadata": {},
   "outputs": [],
   "source": [
    "cols = [\"StockCode\",\"Description\"]\n",
    "for i in range(185):\n",
    "    cols.append(\"root-\"+str(i+1))\n",
    "for i in range(6):\n",
    "    cols.append(\"priceRange-\"+str(i+1))\n",
    "df_products = pd.DataFrame(products_np,columns = cols)\n",
    "df_products.to_csv(\"df_products.csv\")"
   ]
  },
  {
   "cell_type": "code",
   "execution_count": null,
   "metadata": {},
   "outputs": [],
   "source": [
    "df_inp = df_products.drop([\"StockCode\",\"Description\",df_products.columns[0]],axis=1)\n",
    "prod_np = df_inp.to_numpy().astype('int64')\n"
   ]
  },
  {
   "cell_type": "code",
   "execution_count": null,
   "metadata": {},
   "outputs": [],
   "source": [
    "from sklearn.cluster import KMeans\n",
    "\n",
    "kmeans = KMeans(init='k-means++', n_clusters = 5, n_init=1000)\n",
    "kmeans.fit(prod_np)\n",
    "clusters = kmeans.predict(prod_np)\n",
    "\n",
    "print(clusters)"
   ]
  },
  {
   "cell_type": "code",
   "execution_count": null,
   "metadata": {},
   "outputs": [],
   "source": [
    "print(pd.Series(clusters).value_counts())"
   ]
  },
  {
   "cell_type": "code",
   "execution_count": null,
   "metadata": {},
   "outputs": [],
   "source": [
    "print(df_phase3.shape,len(clusters))"
   ]
  },
  {
   "cell_type": "code",
   "execution_count": null,
   "metadata": {},
   "outputs": [],
   "source": [
    "df_phase4 = df_products[[\"StockCode\", \"Description\"]]\n",
    "df_phase4[\"Category\"] = clusters\n",
    "print(df_phase4 )"
   ]
  },
  {
   "cell_type": "code",
   "execution_count": null,
   "metadata": {},
   "outputs": [],
   "source": [
    "df_phase4.to_csv(\"final_prod_cat.csv\")"
   ]
  },
  {
   "cell_type": "code",
   "execution_count": null,
   "metadata": {},
   "outputs": [],
   "source": [
    "stock_to_cat = {}\n",
    "\n",
    "for i,row in df_phase4.iterrows():\n",
    "    stock_to_cat[row[\"StockCode\"]] = row[\"Category\"]\n",
    "\n",
    "print(stock_to_cat)"
   ]
  },
  {
   "cell_type": "code",
   "execution_count": null,
   "metadata": {},
   "outputs": [],
   "source": [
    "stock_list = df_phase3[\"StockCode\"].to_numpy()\n",
    "cat_list = []\n",
    "for i in range(stock_list.shape[0]):\n",
    "    cat_list.append(stock_to_cat[stock_list[i]])\n",
    "\n",
    "df_phase3[\"prod_cat\"] = cat_list\n",
    "\n"
   ]
  },
  {
   "cell_type": "code",
   "execution_count": null,
   "metadata": {},
   "outputs": [],
   "source": [
    "df_phase3_np = df_phase3.to_numpy()"
   ]
  },
  {
   "cell_type": "code",
   "execution_count": null,
   "metadata": {},
   "outputs": [],
   "source": [
    "print(df_phase3)"
   ]
  },
  {
   "cell_type": "code",
   "execution_count": null,
   "metadata": {},
   "outputs": [],
   "source": [
    "df_phase5 = []\n",
    "for i in range(df_phase3_np.shape[0]):\n",
    "    temp = [0,0,0,0,0]\n",
    "    cat = df_phase3_np[i][-1]\n",
    "    temp[cat] = df_phase3_np[i][-2]\n",
    "    res = list(df_phase3_np[i]) + temp\n",
    "    df_phase5.append(np.array(res))\n",
    "\n",
    "df_phase5_np = np.array(df_phase5)\n",
    "print(df_phase5_np)\n",
    "\n"
   ]
  },
  {
   "cell_type": "code",
   "execution_count": null,
   "metadata": {},
   "outputs": [],
   "source": [
    "cols = list(df_phase3.columns)\n",
    "cols.extend([\"cat0\",\"cat1\",\"cat2\",\"cat3\",\"cat4\"])\n",
    "df_phase6 = pd.DataFrame(df_phase5_np,columns=cols)\n",
    "print(df_phase6)"
   ]
  },
  {
   "cell_type": "code",
   "execution_count": null,
   "metadata": {},
   "outputs": [],
   "source": [
    "df_phase6.to_csv(\"df_phase6.csv\")"
   ]
  },
  {
   "cell_type": "code",
   "execution_count": null,
   "metadata": {},
   "outputs": [],
   "source": [
    "invoice_to_cats = {}\n",
    "for i, row in df_phase6.iterrows():\n",
    "    invoice = row[\"InvoiceNo\"]\n",
    "    if invoice in invoice_to_cats:\n",
    "        invoice_to_cats[invoice][3] += row[\"cat0\"]\n",
    "        invoice_to_cats[invoice][4] += row[\"cat1\"]\n",
    "        invoice_to_cats[invoice][5] += row[\"cat2\"]\n",
    "        invoice_to_cats[invoice][6] += row[\"cat3\"]\n",
    "        invoice_to_cats[invoice][7] += row[\"cat4\"]\n",
    "        invoice_to_cats[invoice][8] += row[\"TotalPrice\"]\n",
    "    else:\n",
    "        invoice_to_cats[invoice]= list([row[\"CustomerID\"],row[\"InvoiceNo\"], row[\"CountryID\"], row[\"cat0\"],row[\"cat1\"],row[\"cat2\"],row[\"cat3\"],row[\"cat4\"],row[\"TotalPrice\"] ])\n",
    "\n",
    "print(invoice_to_cats)"
   ]
  },
  {
   "cell_type": "code",
   "execution_count": null,
   "metadata": {},
   "outputs": [],
   "source": [
    "df_phase7 = []\n",
    "for key, val in invoice_to_cats.items():\n",
    "    df_phase7.append(val)\n",
    "\n",
    "print(df_phase7)"
   ]
  },
  {
   "cell_type": "code",
   "execution_count": null,
   "metadata": {},
   "outputs": [],
   "source": [
    "cust_to_invoice = {}\n",
    "\n",
    "for i, row in enumerate(df_phase7):\n",
    "    cust = row[0]\n",
    "    if cust in cust_to_invoice:\n",
    "        cust_to_invoice[cust][2] += row[3]\n",
    "        cust_to_invoice[cust][3] += row[4]\n",
    "        cust_to_invoice[cust][4] += row[5]\n",
    "        cust_to_invoice[cust][5] += row[6]\n",
    "        cust_to_invoice[cust][6] += row[7]\n",
    "        cust_to_invoice[cust][7] += row[8]\n",
    "        cust_to_invoice[cust][8] = min(cust_to_invoice[cust][8], row[8])\n",
    "        cust_to_invoice[cust][9] = max(cust_to_invoice[cust][9], row[8])\n",
    "        cust_to_invoice[cust][10] += 1\n",
    "    else:\n",
    "        cust_to_invoice[cust]= list([row[0], row[2], row[3],row[4],row[5],row[6],row[7],row[8],row[8],row[8], 1])\n",
    "\n",
    "print(cust_to_invoice)"
   ]
  },
  {
   "cell_type": "code",
   "execution_count": null,
   "metadata": {},
   "outputs": [],
   "source": [
    "df_phase8 = []\n",
    "for key, val in cust_to_invoice.items():\n",
    "    val.append(val[7] / val[-1])\n",
    "    for i in range(2,7):\n",
    "        if val[7]!=0:\n",
    "            val[i] /= val[7]\n",
    "        val[i] *= 100\n",
    "    df_phase8.append(val)\n",
    "\n",
    "print(df_phase8)\n",
    "\n",
    "# Original Order: Customer ID, Country ID, Cat-0, Cat-1, Cat-2, Cat-3, Cat-4, Total, Min, Max, Mean, Frequency"
   ]
  },
  {
   "cell_type": "code",
   "execution_count": null,
   "metadata": {},
   "outputs": [],
   "source": [
    "cols = [\"CustomerID\", \"CountryID\", \"Category-0\", \"Category-1\", \"Category-2\", \"Category-3\", \"Category-4\", \"Total Expenditure\", \"Min Expenditure\", \"Max Expenditure\", \"No. of Invoices\", \"Mean Expenditure\"]\n",
    "df_phase9 = pd.DataFrame(df_phase8, columns = cols)\n",
    "print(df_phase9)"
   ]
  },
  {
   "cell_type": "code",
   "execution_count": 145,
   "metadata": {},
   "outputs": [],
   "source": [
    "df_phase9.to_csv(\"df_phase9.csv\")"
   ]
  },
  {
   "cell_type": "code",
   "execution_count": 150,
   "metadata": {},
   "outputs": [],
   "source": [
    "\n",
    "kmeans = KMeans(init='k-means++', n_clusters = 11, n_init=10000)\n",
    "# df_phase9.drop(\"CustomerID\",axis=1,inplace=True)\n",
    "kmeans.fit(df_phase9)\n",
    "clusters = kmeans.predict(df_phase9)\n"
   ]
  },
  {
   "cell_type": "code",
   "execution_count": 151,
   "metadata": {},
   "outputs": [
    {
     "name": "stdout",
     "output_type": "stream",
     "text": [
      "0     1277\n",
      "7     1213\n",
      "3     1124\n",
      "8      453\n",
      "5      184\n",
      "10      53\n",
      "2       17\n",
      "6       12\n",
      "1        3\n",
      "4        2\n",
      "9        1\n",
      "dtype: int64\n"
     ]
    }
   ],
   "source": [
    "print(pd.Series(clusters).value_counts())"
   ]
  },
  {
   "cell_type": "code",
   "execution_count": 152,
   "metadata": {},
   "outputs": [],
   "source": [
    "kmeans = KMeans(init='k-means++', n_clusters = 6, n_init=10000)\n",
    "# df_phase9.drop(\"CustomerID\",axis=1,inplace=True)\n",
    "kmeans.fit(df_phase9)\n",
    "clusters = kmeans.predict(df_phase9)"
   ]
  },
  {
   "cell_type": "code",
   "execution_count": 153,
   "metadata": {},
   "outputs": [
    {
     "name": "stdout",
     "output_type": "stream",
     "text": [
      "5    2053\n",
      "0    2003\n",
      "4     248\n",
      "3      28\n",
      "2       4\n",
      "1       3\n",
      "dtype: int64\n"
     ]
    }
   ],
   "source": [
    "print(pd.Series(clusters).value_counts())"
   ]
  },
  {
   "cell_type": "code",
   "execution_count": 155,
   "metadata": {},
   "outputs": [
    {
     "name": "stdout",
     "output_type": "stream",
     "text": [
      "3    2029\n",
      "0    1978\n",
      "6     284\n",
      "4      30\n",
      "2      12\n",
      "1       4\n",
      "5       2\n",
      "dtype: int64\n"
     ]
    }
   ],
   "source": [
    "kmeans = KMeans(init='k-means++', n_clusters = 7, n_init=10000)\n",
    "# df_phase9.drop(\"CustomerID\",axis=1,inplace=True)\n",
    "kmeans.fit(df_phase9)\n",
    "clusters = kmeans.predict(df_phase9)\n",
    "print(pd.Series(clusters).value_counts())"
   ]
  }
 ],
 "metadata": {
  "interpreter": {
   "hash": "8296d0786e9b384ebb7f91942e232033740bae4a9ae1f1bba7a3651c8060b4f0"
  },
  "kernelspec": {
   "display_name": "Python 3.9.7 ('base')",
   "language": "python",
   "name": "python3"
  },
  "language_info": {
   "codemirror_mode": {
    "name": "ipython",
    "version": 3
   },
   "file_extension": ".py",
   "mimetype": "text/x-python",
   "name": "python",
   "nbconvert_exporter": "python",
   "pygments_lexer": "ipython3",
   "version": "3.9.7"
  },
  "orig_nbformat": 4
 },
 "nbformat": 4,
 "nbformat_minor": 2
}
