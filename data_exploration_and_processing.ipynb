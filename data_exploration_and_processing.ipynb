{
 "cells": [
  {
   "cell_type": "code",
   "execution_count": 135,
   "metadata": {},
   "outputs": [],
   "source": [
    "import numpy as np\n",
    "import pandas as pd\n",
    "import matplotlib.pyplot as plt\n"
   ]
  },
  {
   "cell_type": "code",
   "execution_count": 136,
   "metadata": {},
   "outputs": [
    {
     "name": "stdout",
     "output_type": "stream",
     "text": [
      "Dataframe dimensions: (541909, 8)\n",
      "                 InvoiceNo StockCode Description Quantity     InvoiceDate  \\\n",
      "column type         object    object      object    int64  datetime64[ns]   \n",
      "null values (nb)         0         0        1454        0               0   \n",
      "null values (%)        0.0       0.0    0.268311      0.0             0.0   \n",
      "\n",
      "                 UnitPrice CustomerID Country  \n",
      "column type        float64     object  object  \n",
      "null values (nb)         0     135080       0  \n",
      "null values (%)        0.0  24.926694     0.0  \n"
     ]
    }
   ],
   "source": [
    "df_initial = pd.read_csv('./data.csv',encoding='latin1',dtype={'CustomerID': str,'InvoiceID': str})\n",
    "df_initial['InvoiceDate'] = pd.to_datetime(df_initial['InvoiceDate'])\n",
    "print('Dataframe dimensions:', df_initial.shape)\n",
    "\n",
    "tab_info=pd.DataFrame(df_initial.dtypes).T.rename(index={0:'column type'})\n",
    "tab_info=tab_info.append(pd.DataFrame(df_initial.isnull().sum()).T.rename(index={0:'null values (nb)'}))\n",
    "tab_info=tab_info.append(pd.DataFrame(df_initial.isnull().sum()/df_initial.shape[0]*100).T.rename(index={0:'null values (%)'}))\n",
    "print(tab_info)"
   ]
  },
  {
   "cell_type": "code",
   "execution_count": 137,
   "metadata": {},
   "outputs": [
    {
     "data": {
      "text/html": [
       "<div>\n",
       "<style scoped>\n",
       "    .dataframe tbody tr th:only-of-type {\n",
       "        vertical-align: middle;\n",
       "    }\n",
       "\n",
       "    .dataframe tbody tr th {\n",
       "        vertical-align: top;\n",
       "    }\n",
       "\n",
       "    .dataframe thead th {\n",
       "        text-align: right;\n",
       "    }\n",
       "</style>\n",
       "<table border=\"1\" class=\"dataframe\">\n",
       "  <thead>\n",
       "    <tr style=\"text-align: right;\">\n",
       "      <th></th>\n",
       "      <th>InvoiceNo</th>\n",
       "      <th>StockCode</th>\n",
       "      <th>Description</th>\n",
       "      <th>Quantity</th>\n",
       "      <th>InvoiceDate</th>\n",
       "      <th>UnitPrice</th>\n",
       "      <th>CustomerID</th>\n",
       "      <th>Country</th>\n",
       "    </tr>\n",
       "  </thead>\n",
       "  <tbody>\n",
       "    <tr>\n",
       "      <th>0</th>\n",
       "      <td>536365</td>\n",
       "      <td>85123A</td>\n",
       "      <td>WHITE HANGING HEART T-LIGHT HOLDER</td>\n",
       "      <td>6</td>\n",
       "      <td>2010-12-01 08:26:00</td>\n",
       "      <td>2.55</td>\n",
       "      <td>17850</td>\n",
       "      <td>United Kingdom</td>\n",
       "    </tr>\n",
       "    <tr>\n",
       "      <th>1</th>\n",
       "      <td>536365</td>\n",
       "      <td>71053</td>\n",
       "      <td>WHITE METAL LANTERN</td>\n",
       "      <td>6</td>\n",
       "      <td>2010-12-01 08:26:00</td>\n",
       "      <td>3.39</td>\n",
       "      <td>17850</td>\n",
       "      <td>United Kingdom</td>\n",
       "    </tr>\n",
       "    <tr>\n",
       "      <th>2</th>\n",
       "      <td>536365</td>\n",
       "      <td>84406B</td>\n",
       "      <td>CREAM CUPID HEARTS COAT HANGER</td>\n",
       "      <td>8</td>\n",
       "      <td>2010-12-01 08:26:00</td>\n",
       "      <td>2.75</td>\n",
       "      <td>17850</td>\n",
       "      <td>United Kingdom</td>\n",
       "    </tr>\n",
       "    <tr>\n",
       "      <th>3</th>\n",
       "      <td>536365</td>\n",
       "      <td>84029G</td>\n",
       "      <td>KNITTED UNION FLAG HOT WATER BOTTLE</td>\n",
       "      <td>6</td>\n",
       "      <td>2010-12-01 08:26:00</td>\n",
       "      <td>3.39</td>\n",
       "      <td>17850</td>\n",
       "      <td>United Kingdom</td>\n",
       "    </tr>\n",
       "    <tr>\n",
       "      <th>4</th>\n",
       "      <td>536365</td>\n",
       "      <td>84029E</td>\n",
       "      <td>RED WOOLLY HOTTIE WHITE HEART.</td>\n",
       "      <td>6</td>\n",
       "      <td>2010-12-01 08:26:00</td>\n",
       "      <td>3.39</td>\n",
       "      <td>17850</td>\n",
       "      <td>United Kingdom</td>\n",
       "    </tr>\n",
       "  </tbody>\n",
       "</table>\n",
       "</div>"
      ],
      "text/plain": [
       "  InvoiceNo StockCode                          Description  Quantity  \\\n",
       "0    536365    85123A   WHITE HANGING HEART T-LIGHT HOLDER         6   \n",
       "1    536365     71053                  WHITE METAL LANTERN         6   \n",
       "2    536365    84406B       CREAM CUPID HEARTS COAT HANGER         8   \n",
       "3    536365    84029G  KNITTED UNION FLAG HOT WATER BOTTLE         6   \n",
       "4    536365    84029E       RED WOOLLY HOTTIE WHITE HEART.         6   \n",
       "\n",
       "          InvoiceDate  UnitPrice CustomerID         Country  \n",
       "0 2010-12-01 08:26:00       2.55      17850  United Kingdom  \n",
       "1 2010-12-01 08:26:00       3.39      17850  United Kingdom  \n",
       "2 2010-12-01 08:26:00       2.75      17850  United Kingdom  \n",
       "3 2010-12-01 08:26:00       3.39      17850  United Kingdom  \n",
       "4 2010-12-01 08:26:00       3.39      17850  United Kingdom  "
      ]
     },
     "execution_count": 137,
     "metadata": {},
     "output_type": "execute_result"
    }
   ],
   "source": [
    "df_initial.head()"
   ]
  },
  {
   "cell_type": "code",
   "execution_count": 138,
   "metadata": {},
   "outputs": [
    {
     "name": "stdout",
     "output_type": "stream",
     "text": [
      "Dataframe dimensions: (406829, 8)\n",
      "                 InvoiceNo StockCode Description Quantity     InvoiceDate  \\\n",
      "column type         object    object      object    int64  datetime64[ns]   \n",
      "null values (nb)         0         0           0        0               0   \n",
      "null values (%)        0.0       0.0         0.0      0.0             0.0   \n",
      "\n",
      "                 UnitPrice CustomerID Country  \n",
      "column type        float64     object  object  \n",
      "null values (nb)         0          0       0  \n",
      "null values (%)        0.0        0.0     0.0  \n"
     ]
    }
   ],
   "source": [
    "# Remove entries for customer ID NULL\n",
    "df_initial.dropna(axis = 0, subset = ['CustomerID'], inplace = True)\n",
    "print('Dataframe dimensions:', df_initial.shape)\n",
    "\n",
    "tab_info=pd.DataFrame(df_initial.dtypes).T.rename(index={0:'column type'})\n",
    "tab_info=tab_info.append(pd.DataFrame(df_initial.isnull().sum()).T.rename(index={0:'null values (nb)'}))\n",
    "tab_info=tab_info.append(pd.DataFrame(df_initial.isnull().sum()/df_initial.shape[0]*100).T.rename(index={0:'null values (%)'}))\n",
    "print(tab_info)"
   ]
  },
  {
   "cell_type": "code",
   "execution_count": 139,
   "metadata": {},
   "outputs": [],
   "source": [
    "df_initial.drop_duplicates(inplace = True)"
   ]
  },
  {
   "cell_type": "code",
   "execution_count": 140,
   "metadata": {},
   "outputs": [
    {
     "name": "stdout",
     "output_type": "stream",
     "text": [
      "Dataframe dimensions: (401604, 8)\n"
     ]
    }
   ],
   "source": [
    "print('Dataframe dimensions:', df_initial.shape)"
   ]
  },
  {
   "cell_type": "code",
   "execution_count": 141,
   "metadata": {},
   "outputs": [
    {
     "name": "stdout",
     "output_type": "stream",
     "text": [
      "37\n",
      "{'United Kingdom': 0, 'France': 1, 'Australia': 2, 'Netherlands': 3, 'Germany': 4, 'Norway': 5, 'EIRE': 6, 'Switzerland': 7, 'Spain': 8, 'Poland': 9, 'Portugal': 10, 'Italy': 11, 'Belgium': 12, 'Lithuania': 13, 'Japan': 14, 'Iceland': 15, 'Channel Islands': 16, 'Denmark': 17, 'Cyprus': 18, 'Sweden': 19, 'Austria': 20, 'Israel': 21, 'Finland': 22, 'Greece': 23, 'Singapore': 24, 'Lebanon': 25, 'United Arab Emirates': 26, 'Saudi Arabia': 27, 'Czech Republic': 28, 'Canada': 29, 'Unspecified': 30, 'Brazil': 31, 'USA': 32, 'European Community': 33, 'Bahrain': 34, 'Malta': 35, 'RSA': 36}\n"
     ]
    }
   ],
   "source": [
    "country_to_index = {}\n",
    "count=0\n",
    "countries = df_initial[\"Country\"].to_numpy()\n",
    "for i in range(countries.shape[0]):\n",
    "    if countries[i] not in country_to_index:\n",
    "        country_to_index[countries[i]] = count\n",
    "        count+=1\n",
    "print(count)\n",
    "print(country_to_index)"
   ]
  },
  {
   "cell_type": "code",
   "execution_count": 142,
   "metadata": {},
   "outputs": [
    {
     "name": "stderr",
     "output_type": "stream",
     "text": [
      "/tmp/ipykernel_30502/543043970.py:1: FutureWarning: In a future version of pandas all arguments of DataFrame.drop except for the argument 'labels' will be keyword-only\n",
      "  df_initial = df_initial.drop(\"Country\", 1)\n"
     ]
    }
   ],
   "source": [
    "df_initial = df_initial.drop(\"Country\", 1)"
   ]
  },
  {
   "cell_type": "code",
   "execution_count": 143,
   "metadata": {},
   "outputs": [
    {
     "data": {
      "text/html": [
       "<div>\n",
       "<style scoped>\n",
       "    .dataframe tbody tr th:only-of-type {\n",
       "        vertical-align: middle;\n",
       "    }\n",
       "\n",
       "    .dataframe tbody tr th {\n",
       "        vertical-align: top;\n",
       "    }\n",
       "\n",
       "    .dataframe thead th {\n",
       "        text-align: right;\n",
       "    }\n",
       "</style>\n",
       "<table border=\"1\" class=\"dataframe\">\n",
       "  <thead>\n",
       "    <tr style=\"text-align: right;\">\n",
       "      <th></th>\n",
       "      <th>InvoiceNo</th>\n",
       "      <th>StockCode</th>\n",
       "      <th>Description</th>\n",
       "      <th>Quantity</th>\n",
       "      <th>InvoiceDate</th>\n",
       "      <th>UnitPrice</th>\n",
       "      <th>CustomerID</th>\n",
       "    </tr>\n",
       "  </thead>\n",
       "  <tbody>\n",
       "    <tr>\n",
       "      <th>0</th>\n",
       "      <td>536365</td>\n",
       "      <td>85123A</td>\n",
       "      <td>WHITE HANGING HEART T-LIGHT HOLDER</td>\n",
       "      <td>6</td>\n",
       "      <td>2010-12-01 08:26:00</td>\n",
       "      <td>2.55</td>\n",
       "      <td>17850</td>\n",
       "    </tr>\n",
       "    <tr>\n",
       "      <th>1</th>\n",
       "      <td>536365</td>\n",
       "      <td>71053</td>\n",
       "      <td>WHITE METAL LANTERN</td>\n",
       "      <td>6</td>\n",
       "      <td>2010-12-01 08:26:00</td>\n",
       "      <td>3.39</td>\n",
       "      <td>17850</td>\n",
       "    </tr>\n",
       "    <tr>\n",
       "      <th>2</th>\n",
       "      <td>536365</td>\n",
       "      <td>84406B</td>\n",
       "      <td>CREAM CUPID HEARTS COAT HANGER</td>\n",
       "      <td>8</td>\n",
       "      <td>2010-12-01 08:26:00</td>\n",
       "      <td>2.75</td>\n",
       "      <td>17850</td>\n",
       "    </tr>\n",
       "    <tr>\n",
       "      <th>3</th>\n",
       "      <td>536365</td>\n",
       "      <td>84029G</td>\n",
       "      <td>KNITTED UNION FLAG HOT WATER BOTTLE</td>\n",
       "      <td>6</td>\n",
       "      <td>2010-12-01 08:26:00</td>\n",
       "      <td>3.39</td>\n",
       "      <td>17850</td>\n",
       "    </tr>\n",
       "    <tr>\n",
       "      <th>4</th>\n",
       "      <td>536365</td>\n",
       "      <td>84029E</td>\n",
       "      <td>RED WOOLLY HOTTIE WHITE HEART.</td>\n",
       "      <td>6</td>\n",
       "      <td>2010-12-01 08:26:00</td>\n",
       "      <td>3.39</td>\n",
       "      <td>17850</td>\n",
       "    </tr>\n",
       "  </tbody>\n",
       "</table>\n",
       "</div>"
      ],
      "text/plain": [
       "  InvoiceNo StockCode                          Description  Quantity  \\\n",
       "0    536365    85123A   WHITE HANGING HEART T-LIGHT HOLDER         6   \n",
       "1    536365     71053                  WHITE METAL LANTERN         6   \n",
       "2    536365    84406B       CREAM CUPID HEARTS COAT HANGER         8   \n",
       "3    536365    84029G  KNITTED UNION FLAG HOT WATER BOTTLE         6   \n",
       "4    536365    84029E       RED WOOLLY HOTTIE WHITE HEART.         6   \n",
       "\n",
       "          InvoiceDate  UnitPrice CustomerID  \n",
       "0 2010-12-01 08:26:00       2.55      17850  \n",
       "1 2010-12-01 08:26:00       3.39      17850  \n",
       "2 2010-12-01 08:26:00       2.75      17850  \n",
       "3 2010-12-01 08:26:00       3.39      17850  \n",
       "4 2010-12-01 08:26:00       3.39      17850  "
      ]
     },
     "execution_count": 143,
     "metadata": {},
     "output_type": "execute_result"
    }
   ],
   "source": [
    "df_initial.head()"
   ]
  },
  {
   "cell_type": "code",
   "execution_count": 144,
   "metadata": {},
   "outputs": [
    {
     "data": {
      "text/html": [
       "<div>\n",
       "<style scoped>\n",
       "    .dataframe tbody tr th:only-of-type {\n",
       "        vertical-align: middle;\n",
       "    }\n",
       "\n",
       "    .dataframe tbody tr th {\n",
       "        vertical-align: top;\n",
       "    }\n",
       "\n",
       "    .dataframe thead th {\n",
       "        text-align: right;\n",
       "    }\n",
       "</style>\n",
       "<table border=\"1\" class=\"dataframe\">\n",
       "  <thead>\n",
       "    <tr style=\"text-align: right;\">\n",
       "      <th></th>\n",
       "      <th>InvoiceNo</th>\n",
       "      <th>StockCode</th>\n",
       "      <th>Description</th>\n",
       "      <th>Quantity</th>\n",
       "      <th>InvoiceDate</th>\n",
       "      <th>UnitPrice</th>\n",
       "      <th>CustomerID</th>\n",
       "      <th>CountryID</th>\n",
       "    </tr>\n",
       "  </thead>\n",
       "  <tbody>\n",
       "    <tr>\n",
       "      <th>541904</th>\n",
       "      <td>581587</td>\n",
       "      <td>22613</td>\n",
       "      <td>PACK OF 20 SPACEBOY NAPKINS</td>\n",
       "      <td>12</td>\n",
       "      <td>2011-12-09 12:50:00</td>\n",
       "      <td>0.85</td>\n",
       "      <td>12680</td>\n",
       "      <td>1</td>\n",
       "    </tr>\n",
       "    <tr>\n",
       "      <th>541905</th>\n",
       "      <td>581587</td>\n",
       "      <td>22899</td>\n",
       "      <td>CHILDREN'S APRON DOLLY GIRL</td>\n",
       "      <td>6</td>\n",
       "      <td>2011-12-09 12:50:00</td>\n",
       "      <td>2.10</td>\n",
       "      <td>12680</td>\n",
       "      <td>1</td>\n",
       "    </tr>\n",
       "    <tr>\n",
       "      <th>541906</th>\n",
       "      <td>581587</td>\n",
       "      <td>23254</td>\n",
       "      <td>CHILDRENS CUTLERY DOLLY GIRL</td>\n",
       "      <td>4</td>\n",
       "      <td>2011-12-09 12:50:00</td>\n",
       "      <td>4.15</td>\n",
       "      <td>12680</td>\n",
       "      <td>1</td>\n",
       "    </tr>\n",
       "    <tr>\n",
       "      <th>541907</th>\n",
       "      <td>581587</td>\n",
       "      <td>23255</td>\n",
       "      <td>CHILDRENS CUTLERY CIRCUS PARADE</td>\n",
       "      <td>4</td>\n",
       "      <td>2011-12-09 12:50:00</td>\n",
       "      <td>4.15</td>\n",
       "      <td>12680</td>\n",
       "      <td>1</td>\n",
       "    </tr>\n",
       "    <tr>\n",
       "      <th>541908</th>\n",
       "      <td>581587</td>\n",
       "      <td>22138</td>\n",
       "      <td>BAKING SET 9 PIECE RETROSPOT</td>\n",
       "      <td>3</td>\n",
       "      <td>2011-12-09 12:50:00</td>\n",
       "      <td>4.95</td>\n",
       "      <td>12680</td>\n",
       "      <td>1</td>\n",
       "    </tr>\n",
       "  </tbody>\n",
       "</table>\n",
       "</div>"
      ],
      "text/plain": [
       "       InvoiceNo StockCode                      Description  Quantity  \\\n",
       "541904    581587     22613      PACK OF 20 SPACEBOY NAPKINS        12   \n",
       "541905    581587     22899     CHILDREN'S APRON DOLLY GIRL          6   \n",
       "541906    581587     23254    CHILDRENS CUTLERY DOLLY GIRL          4   \n",
       "541907    581587     23255  CHILDRENS CUTLERY CIRCUS PARADE         4   \n",
       "541908    581587     22138    BAKING SET 9 PIECE RETROSPOT          3   \n",
       "\n",
       "               InvoiceDate  UnitPrice CustomerID CountryID  \n",
       "541904 2011-12-09 12:50:00       0.85      12680         1  \n",
       "541905 2011-12-09 12:50:00       2.10      12680         1  \n",
       "541906 2011-12-09 12:50:00       4.15      12680         1  \n",
       "541907 2011-12-09 12:50:00       4.15      12680         1  \n",
       "541908 2011-12-09 12:50:00       4.95      12680         1  "
      ]
     },
     "execution_count": 144,
     "metadata": {},
     "output_type": "execute_result"
    }
   ],
   "source": [
    "for i in range(countries.shape[0]):\n",
    "    countries[i] = country_to_index[countries[i]]\n",
    "df_initial[\"CountryID\"] = countries\n",
    "df_initial.tail()"
   ]
  },
  {
   "cell_type": "code",
   "execution_count": 145,
   "metadata": {},
   "outputs": [
    {
     "data": {
      "text/html": [
       "<div>\n",
       "<style scoped>\n",
       "    .dataframe tbody tr th:only-of-type {\n",
       "        vertical-align: middle;\n",
       "    }\n",
       "\n",
       "    .dataframe tbody tr th {\n",
       "        vertical-align: top;\n",
       "    }\n",
       "\n",
       "    .dataframe thead th {\n",
       "        text-align: right;\n",
       "    }\n",
       "</style>\n",
       "<table border=\"1\" class=\"dataframe\">\n",
       "  <thead>\n",
       "    <tr style=\"text-align: right;\">\n",
       "      <th></th>\n",
       "      <th>InvoiceNo</th>\n",
       "      <th>StockCode</th>\n",
       "      <th>Description</th>\n",
       "      <th>Quantity</th>\n",
       "      <th>InvoiceDate</th>\n",
       "      <th>UnitPrice</th>\n",
       "      <th>CustomerID</th>\n",
       "      <th>CountryID</th>\n",
       "    </tr>\n",
       "  </thead>\n",
       "  <tbody>\n",
       "    <tr>\n",
       "      <th>0</th>\n",
       "      <td>536365</td>\n",
       "      <td>85123A</td>\n",
       "      <td>WHITE HANGING HEART T-LIGHT HOLDER</td>\n",
       "      <td>6</td>\n",
       "      <td>2010-12-01 08:26:00</td>\n",
       "      <td>2.55</td>\n",
       "      <td>17850</td>\n",
       "      <td>0</td>\n",
       "    </tr>\n",
       "    <tr>\n",
       "      <th>1</th>\n",
       "      <td>536365</td>\n",
       "      <td>71053</td>\n",
       "      <td>WHITE METAL LANTERN</td>\n",
       "      <td>6</td>\n",
       "      <td>2010-12-01 08:26:00</td>\n",
       "      <td>3.39</td>\n",
       "      <td>17850</td>\n",
       "      <td>0</td>\n",
       "    </tr>\n",
       "    <tr>\n",
       "      <th>2</th>\n",
       "      <td>536365</td>\n",
       "      <td>84406B</td>\n",
       "      <td>CREAM CUPID HEARTS COAT HANGER</td>\n",
       "      <td>8</td>\n",
       "      <td>2010-12-01 08:26:00</td>\n",
       "      <td>2.75</td>\n",
       "      <td>17850</td>\n",
       "      <td>0</td>\n",
       "    </tr>\n",
       "    <tr>\n",
       "      <th>3</th>\n",
       "      <td>536365</td>\n",
       "      <td>84029G</td>\n",
       "      <td>KNITTED UNION FLAG HOT WATER BOTTLE</td>\n",
       "      <td>6</td>\n",
       "      <td>2010-12-01 08:26:00</td>\n",
       "      <td>3.39</td>\n",
       "      <td>17850</td>\n",
       "      <td>0</td>\n",
       "    </tr>\n",
       "    <tr>\n",
       "      <th>4</th>\n",
       "      <td>536365</td>\n",
       "      <td>84029E</td>\n",
       "      <td>RED WOOLLY HOTTIE WHITE HEART.</td>\n",
       "      <td>6</td>\n",
       "      <td>2010-12-01 08:26:00</td>\n",
       "      <td>3.39</td>\n",
       "      <td>17850</td>\n",
       "      <td>0</td>\n",
       "    </tr>\n",
       "    <tr>\n",
       "      <th>...</th>\n",
       "      <td>...</td>\n",
       "      <td>...</td>\n",
       "      <td>...</td>\n",
       "      <td>...</td>\n",
       "      <td>...</td>\n",
       "      <td>...</td>\n",
       "      <td>...</td>\n",
       "      <td>...</td>\n",
       "    </tr>\n",
       "    <tr>\n",
       "      <th>541904</th>\n",
       "      <td>581587</td>\n",
       "      <td>22613</td>\n",
       "      <td>PACK OF 20 SPACEBOY NAPKINS</td>\n",
       "      <td>12</td>\n",
       "      <td>2011-12-09 12:50:00</td>\n",
       "      <td>0.85</td>\n",
       "      <td>12680</td>\n",
       "      <td>1</td>\n",
       "    </tr>\n",
       "    <tr>\n",
       "      <th>541905</th>\n",
       "      <td>581587</td>\n",
       "      <td>22899</td>\n",
       "      <td>CHILDREN'S APRON DOLLY GIRL</td>\n",
       "      <td>6</td>\n",
       "      <td>2011-12-09 12:50:00</td>\n",
       "      <td>2.10</td>\n",
       "      <td>12680</td>\n",
       "      <td>1</td>\n",
       "    </tr>\n",
       "    <tr>\n",
       "      <th>541906</th>\n",
       "      <td>581587</td>\n",
       "      <td>23254</td>\n",
       "      <td>CHILDRENS CUTLERY DOLLY GIRL</td>\n",
       "      <td>4</td>\n",
       "      <td>2011-12-09 12:50:00</td>\n",
       "      <td>4.15</td>\n",
       "      <td>12680</td>\n",
       "      <td>1</td>\n",
       "    </tr>\n",
       "    <tr>\n",
       "      <th>541907</th>\n",
       "      <td>581587</td>\n",
       "      <td>23255</td>\n",
       "      <td>CHILDRENS CUTLERY CIRCUS PARADE</td>\n",
       "      <td>4</td>\n",
       "      <td>2011-12-09 12:50:00</td>\n",
       "      <td>4.15</td>\n",
       "      <td>12680</td>\n",
       "      <td>1</td>\n",
       "    </tr>\n",
       "    <tr>\n",
       "      <th>541908</th>\n",
       "      <td>581587</td>\n",
       "      <td>22138</td>\n",
       "      <td>BAKING SET 9 PIECE RETROSPOT</td>\n",
       "      <td>3</td>\n",
       "      <td>2011-12-09 12:50:00</td>\n",
       "      <td>4.95</td>\n",
       "      <td>12680</td>\n",
       "      <td>1</td>\n",
       "    </tr>\n",
       "  </tbody>\n",
       "</table>\n",
       "<p>401604 rows × 8 columns</p>\n",
       "</div>"
      ],
      "text/plain": [
       "       InvoiceNo StockCode                          Description  Quantity  \\\n",
       "0         536365    85123A   WHITE HANGING HEART T-LIGHT HOLDER         6   \n",
       "1         536365     71053                  WHITE METAL LANTERN         6   \n",
       "2         536365    84406B       CREAM CUPID HEARTS COAT HANGER         8   \n",
       "3         536365    84029G  KNITTED UNION FLAG HOT WATER BOTTLE         6   \n",
       "4         536365    84029E       RED WOOLLY HOTTIE WHITE HEART.         6   \n",
       "...          ...       ...                                  ...       ...   \n",
       "541904    581587     22613          PACK OF 20 SPACEBOY NAPKINS        12   \n",
       "541905    581587     22899         CHILDREN'S APRON DOLLY GIRL          6   \n",
       "541906    581587     23254        CHILDRENS CUTLERY DOLLY GIRL          4   \n",
       "541907    581587     23255      CHILDRENS CUTLERY CIRCUS PARADE         4   \n",
       "541908    581587     22138        BAKING SET 9 PIECE RETROSPOT          3   \n",
       "\n",
       "               InvoiceDate  UnitPrice CustomerID CountryID  \n",
       "0      2010-12-01 08:26:00       2.55      17850         0  \n",
       "1      2010-12-01 08:26:00       3.39      17850         0  \n",
       "2      2010-12-01 08:26:00       2.75      17850         0  \n",
       "3      2010-12-01 08:26:00       3.39      17850         0  \n",
       "4      2010-12-01 08:26:00       3.39      17850         0  \n",
       "...                    ...        ...        ...       ...  \n",
       "541904 2011-12-09 12:50:00       0.85      12680         1  \n",
       "541905 2011-12-09 12:50:00       2.10      12680         1  \n",
       "541906 2011-12-09 12:50:00       4.15      12680         1  \n",
       "541907 2011-12-09 12:50:00       4.15      12680         1  \n",
       "541908 2011-12-09 12:50:00       4.95      12680         1  \n",
       "\n",
       "[401604 rows x 8 columns]"
      ]
     },
     "execution_count": 145,
     "metadata": {},
     "output_type": "execute_result"
    }
   ],
   "source": [
    "df_phase2 = df_initial\n",
    "df_phase2"
   ]
  },
  {
   "cell_type": "code",
   "execution_count": 146,
   "metadata": {},
   "outputs": [
    {
     "data": {
      "text/html": [
       "<div>\n",
       "<style scoped>\n",
       "    .dataframe tbody tr th:only-of-type {\n",
       "        vertical-align: middle;\n",
       "    }\n",
       "\n",
       "    .dataframe tbody tr th {\n",
       "        vertical-align: top;\n",
       "    }\n",
       "\n",
       "    .dataframe thead th {\n",
       "        text-align: right;\n",
       "    }\n",
       "</style>\n",
       "<table border=\"1\" class=\"dataframe\">\n",
       "  <thead>\n",
       "    <tr style=\"text-align: right;\">\n",
       "      <th></th>\n",
       "      <th>products</th>\n",
       "      <th>transactions</th>\n",
       "      <th>customers</th>\n",
       "    </tr>\n",
       "  </thead>\n",
       "  <tbody>\n",
       "    <tr>\n",
       "      <th>quantity</th>\n",
       "      <td>3684</td>\n",
       "      <td>22190</td>\n",
       "      <td>4372</td>\n",
       "    </tr>\n",
       "  </tbody>\n",
       "</table>\n",
       "</div>"
      ],
      "text/plain": [
       "          products  transactions  customers\n",
       "quantity      3684         22190       4372"
      ]
     },
     "execution_count": 146,
     "metadata": {},
     "output_type": "execute_result"
    }
   ],
   "source": [
    "pd.DataFrame([{'products': len(df_initial['StockCode'].value_counts()),    \n",
    "               'transactions': len(df_initial['InvoiceNo'].value_counts()),\n",
    "               'customers': len(df_initial['CustomerID'].value_counts()),  \n",
    "              }], columns = ['products', 'transactions', 'customers'], index = ['quantity'])"
   ]
  },
  {
   "cell_type": "code",
   "execution_count": 147,
   "metadata": {},
   "outputs": [
    {
     "data": {
      "text/html": [
       "<div>\n",
       "<style scoped>\n",
       "    .dataframe tbody tr th:only-of-type {\n",
       "        vertical-align: middle;\n",
       "    }\n",
       "\n",
       "    .dataframe tbody tr th {\n",
       "        vertical-align: top;\n",
       "    }\n",
       "\n",
       "    .dataframe thead th {\n",
       "        text-align: right;\n",
       "    }\n",
       "</style>\n",
       "<table border=\"1\" class=\"dataframe\">\n",
       "  <thead>\n",
       "    <tr style=\"text-align: right;\">\n",
       "      <th></th>\n",
       "      <th>CustomerID</th>\n",
       "      <th>InvoiceNo</th>\n",
       "      <th>Number of products</th>\n",
       "    </tr>\n",
       "  </thead>\n",
       "  <tbody>\n",
       "    <tr>\n",
       "      <th>0</th>\n",
       "      <td>12346</td>\n",
       "      <td>541431</td>\n",
       "      <td>1</td>\n",
       "    </tr>\n",
       "    <tr>\n",
       "      <th>1</th>\n",
       "      <td>12346</td>\n",
       "      <td>C541433</td>\n",
       "      <td>1</td>\n",
       "    </tr>\n",
       "    <tr>\n",
       "      <th>2</th>\n",
       "      <td>12347</td>\n",
       "      <td>537626</td>\n",
       "      <td>31</td>\n",
       "    </tr>\n",
       "    <tr>\n",
       "      <th>3</th>\n",
       "      <td>12347</td>\n",
       "      <td>542237</td>\n",
       "      <td>29</td>\n",
       "    </tr>\n",
       "    <tr>\n",
       "      <th>4</th>\n",
       "      <td>12347</td>\n",
       "      <td>549222</td>\n",
       "      <td>24</td>\n",
       "    </tr>\n",
       "    <tr>\n",
       "      <th>5</th>\n",
       "      <td>12347</td>\n",
       "      <td>556201</td>\n",
       "      <td>18</td>\n",
       "    </tr>\n",
       "    <tr>\n",
       "      <th>6</th>\n",
       "      <td>12347</td>\n",
       "      <td>562032</td>\n",
       "      <td>22</td>\n",
       "    </tr>\n",
       "    <tr>\n",
       "      <th>7</th>\n",
       "      <td>12347</td>\n",
       "      <td>573511</td>\n",
       "      <td>47</td>\n",
       "    </tr>\n",
       "    <tr>\n",
       "      <th>8</th>\n",
       "      <td>12347</td>\n",
       "      <td>581180</td>\n",
       "      <td>11</td>\n",
       "    </tr>\n",
       "    <tr>\n",
       "      <th>9</th>\n",
       "      <td>12348</td>\n",
       "      <td>539318</td>\n",
       "      <td>17</td>\n",
       "    </tr>\n",
       "  </tbody>\n",
       "</table>\n",
       "</div>"
      ],
      "text/plain": [
       "  CustomerID InvoiceNo  Number of products\n",
       "0      12346    541431                   1\n",
       "1      12346   C541433                   1\n",
       "2      12347    537626                  31\n",
       "3      12347    542237                  29\n",
       "4      12347    549222                  24\n",
       "5      12347    556201                  18\n",
       "6      12347    562032                  22\n",
       "7      12347    573511                  47\n",
       "8      12347    581180                  11\n",
       "9      12348    539318                  17"
      ]
     },
     "execution_count": 147,
     "metadata": {},
     "output_type": "execute_result"
    }
   ],
   "source": [
    "# Grouping Rows if they belong to same invoice no and customer id\n",
    "temp = df_phase2.groupby(by=['CustomerID', 'InvoiceNo'], as_index=False)['InvoiceDate'].count()\n",
    "nb_products_per_basket = temp.rename(columns = {'InvoiceDate':'Number of products'})\n",
    "nb_products_per_basket[:10].sort_values('CustomerID')"
   ]
  },
  {
   "cell_type": "code",
   "execution_count": 148,
   "metadata": {},
   "outputs": [],
   "source": [
    "df_cleaned = df_phase2.copy(deep = True)\n",
    "df_cleaned['QuantityCanceled'] = 0\n",
    "\n",
    "entry_to_remove = [] \n",
    "doubtfull_entry = []\n",
    "\n",
    "for index, col in  df_phase2.iterrows():\n",
    "    if (col['Quantity'] > 0) or col['Description'] == 'Discount': continue        \n",
    "    df_test = df_phase2[(df_phase2['CustomerID'] == col['CustomerID']) &\n",
    "                         (df_phase2['StockCode']  == col['StockCode']) & \n",
    "                         (df_phase2['InvoiceDate'] < col['InvoiceDate']) & \n",
    "                         (df_phase2['Quantity']   > 0)].copy()\n",
    "\n",
    "    # Cancelation WITHOUT counterpart\n",
    "    if (df_test.shape[0] == 0): \n",
    "        doubtfull_entry.append(index)\n",
    "\n",
    "    # Cancelation WITH a counterpart\n",
    "    elif (df_test.shape[0] == 1): \n",
    "        index_order = df_test.index[0]\n",
    "        df_cleaned.loc[index_order, 'QuantityCanceled'] = -col['Quantity']\n",
    "        entry_to_remove.append(index)        \n",
    "\n",
    "    # Various counterparts exist in orders: we delete the last one\n",
    "    elif (df_test.shape[0] > 1): \n",
    "        df_test.sort_index(axis=0 ,ascending=False, inplace = True)        \n",
    "        for ind, val in df_test.iterrows():\n",
    "            if val['Quantity'] < -col['Quantity']: continue\n",
    "            df_cleaned.loc[ind, 'QuantityCanceled'] = -col['Quantity']\n",
    "            entry_to_remove.append(index) \n",
    "            break        "
   ]
  },
  {
   "cell_type": "code",
   "execution_count": 149,
   "metadata": {},
   "outputs": [],
   "source": [
    "df_cleaned.to_csv(\"df_cleaned.csv\")"
   ]
  },
  {
   "cell_type": "code",
   "execution_count": null,
   "metadata": {},
   "outputs": [],
   "source": [
    "print(len(doubtfull_entry))"
   ]
  },
  {
   "cell_type": "code",
   "execution_count": 150,
   "metadata": {},
   "outputs": [],
   "source": [
    "df_cleaned.drop(entry_to_remove,axis=0,inplace=True)\n",
    "df_cleaned.drop(doubtfull_entry,axis=0,inplace=True)"
   ]
  },
  {
   "cell_type": "code",
   "execution_count": 151,
   "metadata": {},
   "outputs": [
    {
     "name": "stdout",
     "output_type": "stream",
     "text": [
      "(392857, 9)\n"
     ]
    }
   ],
   "source": [
    "print(df_cleaned.shape)"
   ]
  },
  {
   "cell_type": "code",
   "execution_count": 152,
   "metadata": {},
   "outputs": [],
   "source": [
    "df_phase3 = df_cleaned"
   ]
  },
  {
   "cell_type": "code",
   "execution_count": 157,
   "metadata": {},
   "outputs": [
    {
     "name": "stdout",
     "output_type": "stream",
     "text": [
      "0\n"
     ]
    }
   ],
   "source": [
    "to_remove = []\n",
    "for i,val in df_phase3.iterrows():\n",
    "    if val[\"Quantity\"]<=0:\n",
    "        to_remove.append(i)\n",
    "print(len(to_remove))"
   ]
  },
  {
   "cell_type": "code",
   "execution_count": 156,
   "metadata": {},
   "outputs": [],
   "source": [
    "df_phase3.drop(to_remove,axis=0,inplace=True)"
   ]
  },
  {
   "cell_type": "code",
   "execution_count": null,
   "metadata": {},
   "outputs": [],
   "source": [
    "df_phase3[\"TotalPrice\"] = df_phase3[\"UnitPrice\"]*(df_phase3[\"Quantity\"] - df_phase3[\"QuantityCanceled\"])\n",
    "df_phase3"
   ]
  },
  {
   "cell_type": "code",
   "execution_count": null,
   "metadata": {},
   "outputs": [],
   "source": [
    "temp = df_phase3.groupby(by=['CustomerID', 'InvoiceNo'], as_index=False)['TotalPrice'].sum()\n",
    "basket_price = temp.rename(columns = {'TotalPrice':'Basket Price'})\n",
    "basket_price = basket_price[basket_price[\"Basket Price\"]>0]\n",
    "basket_price.head()"
   ]
  },
  {
   "cell_type": "code",
   "execution_count": null,
   "metadata": {},
   "outputs": [],
   "source": [
    "df_phase4 = pd.read_csv('basket_price.csv', encoding = 'latin1')\n",
    "df_phase4"
   ]
  },
  {
   "cell_type": "code",
   "execution_count": 159,
   "metadata": {},
   "outputs": [],
   "source": [
    "df_phase3.to_csv(\"df_phase3.csv\")"
   ]
  },
  {
   "cell_type": "code",
   "execution_count": 161,
   "metadata": {},
   "outputs": [
    {
     "name": "stderr",
     "output_type": "stream",
     "text": [
      "[nltk_data] Downloading package punkt to /home/vaibhav/nltk_data...\n",
      "[nltk_data]   Package punkt is already up-to-date!\n",
      "[nltk_data] Downloading package averaged_perceptron_tagger to\n",
      "[nltk_data]     /home/vaibhav/nltk_data...\n",
      "[nltk_data]   Package averaged_perceptron_tagger is already up-to-\n",
      "[nltk_data]       date!\n",
      "[nltk_data] Downloading package wordnet to /home/vaibhav/nltk_data...\n",
      "[nltk_data]   Package wordnet is already up-to-date!\n"
     ]
    }
   ],
   "source": [
    "from nltk.stem import WordNetLemmatizer\n",
    "import nltk\n",
    "nltk.download('punkt')\n",
    "nltk.download('averaged_perceptron_tagger')\n",
    "nltk.download('wordnet')\n",
    "lem = WordNetLemmatizer()"
   ]
  },
  {
   "cell_type": "code",
   "execution_count": null,
   "metadata": {},
   "outputs": [],
   "source": [
    "root_freq = {}\n",
    "stock_to_roots = {}\n",
    "root_to_index = {}\n",
    "count = 0\n",
    "\n",
    "def is_noun(pos):\n",
    "    if pos[:2] == 'NN':\n",
    "        return True\n",
    "    return False\n",
    "\n",
    "\n",
    "for i, row in df_phase3.iterrows():\n",
    "    desc = row[\"Description\"]\n",
    "    if pd.isnull(desc):\n",
    "        continue \n",
    "    desc = desc.lower()\n",
    "    stock = row[\"StockCode\"]\n",
    "    tokens = nltk.word_tokenize(desc)\n",
    "    nouns = [word for (word, pos) in nltk.pos_tag(tokens) if is_noun(pos)] \n",
    "    vis = {}\n",
    "    temp = []\n",
    "    for noun in nouns:\n",
    "        noun = noun.lower()\n",
    "        root = lem.lemmatize(noun)\n",
    "        if root not in root_freq:\n",
    "            root_freq[root] = 1\n",
    "            vis[root] = 1\n",
    "            temp.append(root)\n",
    "            root_to_index[root] = count \n",
    "            count += 1\n",
    "        elif root not in vis:\n",
    "            root_freq[root] += 1\n",
    "            vis[root] = 1\n",
    "            temp.append(root)\n",
    "    stock_to_roots[stock] = temp\n",
    "\n",
    "print(root_freq)"
   ]
  },
  {
   "cell_type": "code",
   "execution_count": 165,
   "metadata": {},
   "outputs": [
    {
     "name": "stdout",
     "output_type": "stream",
     "text": [
      "1498\n",
      "185\n"
     ]
    }
   ],
   "source": [
    "threshold = 1400\n",
    "print(len(root_freq))\n",
    "top_roots = {key:val for key, val in root_freq.items() if val >= threshold}\n",
    "print(len(top_roots))"
   ]
  },
  {
   "cell_type": "code",
   "execution_count": null,
   "metadata": {},
   "outputs": [],
   "source": [
    "c = 0\n",
    "pop_root_to_index = {}\n",
    "for key, val in top_roots.items():\n",
    "    pop_root_to_index[key] = c \n",
    "    c += 1\n",
    "print(pop_root_to_index)"
   ]
  },
  {
   "cell_type": "code",
   "execution_count": 167,
   "metadata": {},
   "outputs": [],
   "source": [
    "list_products = df_phase3[\"StockCode\"].unique()"
   ]
  },
  {
   "cell_type": "code",
   "execution_count": 168,
   "metadata": {},
   "outputs": [],
   "source": [
    "products_np = []\n",
    "mean_prices = []\n",
    "count_cat = [0 for _ in range(6)]\n",
    "for i,stock in enumerate(list_products):\n",
    "    desc = df_phase3[df_phase3[\"StockCode\"] == stock][\"Description\"].iloc[0]\n",
    "    temp = [stock, desc]\n",
    "    roots = stock_to_roots[stock]\n",
    "    t = [0 for i in range(len(top_roots))]\n",
    "    for root in roots:\n",
    "        if root in top_roots:\n",
    "            index = pop_root_to_index[root]\n",
    "            t[index] = 1\n",
    "    temp.extend(t)\n",
    "    mean_price = df_phase3[df_phase3[\"StockCode\"] == stock][\"UnitPrice\"].mean()\n",
    "    prod_cat = 0\n",
    "\n",
    "    if mean_price < 1:\n",
    "        prod_cat = 0\n",
    "    elif mean_price < 2:\n",
    "        prod_cat = 1\n",
    "    elif mean_price < 3:\n",
    "        prod_cat = 2\n",
    "    elif mean_price < 5:\n",
    "        prod_cat = 3\n",
    "    elif mean_price < 10:\n",
    "        prod_cat = 4\n",
    "    else:\n",
    "        prod_cat = 5\n",
    "\n",
    "    cat_list = [0 for _ in range(6)]\n",
    "    cat_list[prod_cat] = 1\n",
    "    temp.extend(cat_list)\n",
    "    mean_prices.append(mean_price)\n",
    "    count_cat[prod_cat]+=1\n",
    "    temp = np.array(temp)\n",
    "    # print(temp.shape)\n",
    "    products_np.append(temp)"
   ]
  },
  {
   "cell_type": "code",
   "execution_count": 169,
   "metadata": {},
   "outputs": [
    {
     "name": "stdout",
     "output_type": "stream",
     "text": [
      "0.00075\n"
     ]
    },
    {
     "data": {
      "image/png": "[encoded data removed]",
      "text/plain": [
       "<Figure size 432x288 with 1 Axes>"
      ]
     },
     "metadata": {
      "needs_background": "light"
     },
     "output_type": "display_data"
    }
   ],
   "source": [
    "bins = np.arange(-100, 100, 1) # fixed bin size\n",
    "print(min(mean_prices))\n",
    "plt.xlim([min(mean_prices)-5, 20])\n",
    "\n",
    "plt.hist(mean_prices, bins=bins, alpha=0.5)\n",
    "plt.show()\n",
    "\n"
   ]
  },
  {
   "cell_type": "code",
   "execution_count": 170,
   "metadata": {},
   "outputs": [
    {
     "name": "stdout",
     "output_type": "stream",
     "text": [
      "25.34788540245566 %\n",
      "26.302864938608455 %\n",
      "17.32605729877217 %\n",
      "15.061391541609822 %\n",
      "11.950886766712141 %\n",
      "4.0109140518417465 %\n"
     ]
    }
   ],
   "source": [
    "count_cat = np.array(count_cat)\n",
    "for i in range(6):\n",
    "    print(count_cat[i]/np.sum(count_cat) * 100, \"%\")\n"
   ]
  },
  {
   "cell_type": "code",
   "execution_count": 171,
   "metadata": {},
   "outputs": [
    {
     "name": "stdout",
     "output_type": "stream",
     "text": [
      "(3665, 193)\n"
     ]
    }
   ],
   "source": [
    "products_np = np.array(products_np)\n",
    "print(products_np.shape)"
   ]
  },
  {
   "cell_type": "code",
   "execution_count": 172,
   "metadata": {},
   "outputs": [],
   "source": [
    "cols = [\"StockCode\",\"Description\"]\n",
    "for i in range(185):\n",
    "    cols.append(\"root-\"+str(i+1))\n",
    "for i in range(6):\n",
    "    cols.append(\"priceRange-\"+str(i+1))\n",
    "df_products = pd.DataFrame(products_np,columns = cols)\n",
    "df_products.to_csv(\"df_products.csv\")"
   ]
  },
  {
   "cell_type": "code",
   "execution_count": 2,
   "metadata": {},
   "outputs": [],
   "source": [
    "df_products = pd.read_csv(\"df_products.csv\",encoding=\"latin1\")"
   ]
  },
  {
   "cell_type": "code",
   "execution_count": 173,
   "metadata": {},
   "outputs": [],
   "source": [
    "df_inp = df_products.drop([\"StockCode\",\"Description\",df_products.columns[0]],axis=1)\n",
    "prod_np = df_inp.to_numpy().astype('int64')\n"
   ]
  },
  {
   "cell_type": "code",
   "execution_count": 281,
   "metadata": {},
   "outputs": [
    {
     "name": "stdout",
     "output_type": "stream",
     "text": [
      "1    929\n",
      "3    880\n",
      "4    635\n",
      "5    552\n",
      "2    438\n",
      "6    147\n",
      "0     84\n",
      "dtype: int64\n"
     ]
    }
   ],
   "source": [
    "from sklearn.cluster import KMeans\n",
    "\n",
    "kmeans = KMeans(init='k-means++', n_clusters = 7, n_init=1000)\n",
    "kmeans.fit(prod_np)\n",
    "clusters = kmeans.predict(prod_np)\n",
    "\n",
    "print(pd.Series(clusters).value_counts())"
   ]
  },
  {
   "cell_type": "code",
   "execution_count": 282,
   "metadata": {},
   "outputs": [
    {
     "name": "stdout",
     "output_type": "stream",
     "text": [
      "1    929\n",
      "3    880\n",
      "4    635\n",
      "5    552\n",
      "2    438\n",
      "6    147\n",
      "0     84\n",
      "dtype: int64\n"
     ]
    }
   ],
   "source": [
    "print(pd.Series(clusters).value_counts())"
   ]
  },
  {
   "cell_type": "code",
   "execution_count": 283,
   "metadata": {},
   "outputs": [
    {
     "name": "stdout",
     "output_type": "stream",
     "text": [
      "(392732, 11) 3665\n"
     ]
    }
   ],
   "source": [
    "print(df_phase3.shape,len(clusters))"
   ]
  },
  {
   "cell_type": "code",
   "execution_count": 284,
   "metadata": {},
   "outputs": [
    {
     "name": "stdout",
     "output_type": "stream",
     "text": [
      "     StockCode                          Description  Category\n",
      "0       85123A   WHITE HANGING HEART T-LIGHT HOLDER         4\n",
      "1        71053                  WHITE METAL LANTERN         5\n",
      "2       84406B       CREAM CUPID HEARTS COAT HANGER         5\n",
      "3       84029G  KNITTED UNION FLAG HOT WATER BOTTLE         5\n",
      "4       84029E       RED WOOLLY HOTTIE WHITE HEART.         5\n",
      "...        ...                                  ...       ...\n",
      "3660    90214U            LETTER \"U\" BLING KEY RING         1\n",
      "3661    90214W            LETTER \"W\" BLING KEY RING         1\n",
      "3662    90214Z            LETTER \"Z\" BLING KEY RING         1\n",
      "3663     90089       PINK CRYSTAL SKULL PHONE CHARM         1\n",
      "3664     23843          PAPER CRAFT , LITTLE BIRDIE         4\n",
      "\n",
      "[3665 rows x 3 columns]\n"
     ]
    },
    {
     "name": "stderr",
     "output_type": "stream",
     "text": [
      "/tmp/ipykernel_30502/3665360597.py:2: SettingWithCopyWarning: \n",
      "A value is trying to be set on a copy of a slice from a DataFrame.\n",
      "Try using .loc[row_indexer,col_indexer] = value instead\n",
      "\n",
      "See the caveats in the documentation: https://pandas.pydata.org/pandas-docs/stable/user_guide/indexing.html#returning-a-view-versus-a-copy\n",
      "  df_phase4[\"Category\"] = clusters\n"
     ]
    }
   ],
   "source": [
    "df_phase4 = df_products[[\"StockCode\", \"Description\"]]\n",
    "df_phase4[\"Category\"] = clusters\n",
    "print(df_phase4 )"
   ]
  },
  {
   "cell_type": "code",
   "execution_count": 285,
   "metadata": {},
   "outputs": [],
   "source": [
    "df_phase4.to_csv(\"final_prod_cat.csv\")"
   ]
  },
  {
   "cell_type": "code",
   "execution_count": null,
   "metadata": {},
   "outputs": [],
   "source": [
    "stock_to_cat = {}\n",
    "\n",
    "for i,row in df_phase4.iterrows():\n",
    "    stock_to_cat[row[\"StockCode\"]] = row[\"Category\"]\n",
    "\n",
    "print(stock_to_cat)"
   ]
  },
  {
   "cell_type": "code",
   "execution_count": 287,
   "metadata": {},
   "outputs": [],
   "source": [
    "stock_list = df_phase3[\"StockCode\"].to_numpy()\n",
    "cat_list = []\n",
    "for i in range(stock_list.shape[0]):\n",
    "    cat_list.append(stock_to_cat[stock_list[i]])\n",
    "\n",
    "df_phase3[\"prod_cat\"] = cat_list\n",
    "\n"
   ]
  },
  {
   "cell_type": "code",
   "execution_count": 288,
   "metadata": {},
   "outputs": [],
   "source": [
    "df_phase3_np = df_phase3.to_numpy()"
   ]
  },
  {
   "cell_type": "code",
   "execution_count": null,
   "metadata": {},
   "outputs": [],
   "source": [
    "print(df_phase3)"
   ]
  },
  {
   "cell_type": "code",
   "execution_count": 289,
   "metadata": {},
   "outputs": [
    {
     "name": "stdout",
     "output_type": "stream",
     "text": [
      "[['536365' '85123A' 'WHITE HANGING HEART T-LIGHT HOLDER' ...\n",
      "  15.299999999999999 0 0]\n",
      " ['536365' '71053' 'WHITE METAL LANTERN' ... 0 20.34 0]\n",
      " ['536365' '84406B' 'CREAM CUPID HEARTS COAT HANGER' ... 0 22.0 0]\n",
      " ...\n",
      " ['581587' '23254' 'CHILDRENS CUTLERY DOLLY GIRL ' ... 0 16.6 0]\n",
      " ['581587' '23255' 'CHILDRENS CUTLERY CIRCUS PARADE' ... 0 16.6 0]\n",
      " ['581587' '22138' 'BAKING SET 9 PIECE RETROSPOT ' ... 0\n",
      "  14.850000000000001 0]]\n"
     ]
    }
   ],
   "source": [
    "df_phase5 = []\n",
    "for i in range(df_phase3_np.shape[0]):\n",
    "    temp = [0,0,0,0,0,0,0]\n",
    "    cat = df_phase3_np[i][-1]\n",
    "    temp[cat] = df_phase3_np[i][-2]\n",
    "    res = list(df_phase3_np[i]) + temp\n",
    "    df_phase5.append(np.array(res))\n",
    "\n",
    "df_phase5_np = np.array(df_phase5)\n",
    "print(df_phase5_np)\n",
    "\n"
   ]
  },
  {
   "cell_type": "code",
   "execution_count": 291,
   "metadata": {},
   "outputs": [
    {
     "name": "stdout",
     "output_type": "stream",
     "text": [
      "       InvoiceNo StockCode                          Description Quantity  \\\n",
      "0         536365    85123A   WHITE HANGING HEART T-LIGHT HOLDER        6   \n",
      "1         536365     71053                  WHITE METAL LANTERN        6   \n",
      "2         536365    84406B       CREAM CUPID HEARTS COAT HANGER        8   \n",
      "3         536365    84029G  KNITTED UNION FLAG HOT WATER BOTTLE        6   \n",
      "4         536365    84029E       RED WOOLLY HOTTIE WHITE HEART.        6   \n",
      "...          ...       ...                                  ...      ...   \n",
      "392727    581587     22613          PACK OF 20 SPACEBOY NAPKINS       12   \n",
      "392728    581587     22899         CHILDREN'S APRON DOLLY GIRL         6   \n",
      "392729    581587     23254        CHILDRENS CUTLERY DOLLY GIRL         4   \n",
      "392730    581587     23255      CHILDRENS CUTLERY CIRCUS PARADE        4   \n",
      "392731    581587     22138        BAKING SET 9 PIECE RETROSPOT         3   \n",
      "\n",
      "               InvoiceDate UnitPrice CustomerID CountryID QuantityCanceled  \\\n",
      "0      2010-12-01 08:26:00      2.55      17850         0                0   \n",
      "1      2010-12-01 08:26:00      3.39      17850         0                0   \n",
      "2      2010-12-01 08:26:00      2.75      17850         0                0   \n",
      "3      2010-12-01 08:26:00      3.39      17850         0                0   \n",
      "4      2010-12-01 08:26:00      3.39      17850         0                0   \n",
      "...                    ...       ...        ...       ...              ...   \n",
      "392727 2011-12-09 12:50:00      0.85      12680         1                0   \n",
      "392728 2011-12-09 12:50:00       2.1      12680         1                0   \n",
      "392729 2011-12-09 12:50:00      4.15      12680         1                0   \n",
      "392730 2011-12-09 12:50:00      4.15      12680         1                0   \n",
      "392731 2011-12-09 12:50:00      4.95      12680         1                0   \n",
      "\n",
      "       TotalPrice prod_cat cat0  cat1 cat2 cat3  cat4   cat5 cat6  \n",
      "0            15.3        4    0     0    0    0  15.3      0    0  \n",
      "1           20.34        5    0     0    0    0     0  20.34    0  \n",
      "2            22.0        5    0     0    0    0     0   22.0    0  \n",
      "3           20.34        5    0     0    0    0     0  20.34    0  \n",
      "4           20.34        5    0     0    0    0     0  20.34    0  \n",
      "...           ...      ...  ...   ...  ...  ...   ...    ...  ...  \n",
      "392727       10.2        1    0  10.2    0    0     0      0    0  \n",
      "392728       12.6        4    0     0    0    0  12.6      0    0  \n",
      "392729       16.6        5    0     0    0    0     0   16.6    0  \n",
      "392730       16.6        5    0     0    0    0     0   16.6    0  \n",
      "392731      14.85        5    0     0    0    0     0  14.85    0  \n",
      "\n",
      "[392732 rows x 18 columns]\n"
     ]
    }
   ],
   "source": [
    "cols = list(df_phase3.columns)\n",
    "cols.extend([\"cat0\",\"cat1\",\"cat2\",\"cat3\",\"cat4\",\"cat5\",\"cat6\"])\n",
    "df_phase6 = pd.DataFrame(df_phase5_np,columns=cols)\n",
    "print(df_phase6)"
   ]
  },
  {
   "cell_type": "code",
   "execution_count": 292,
   "metadata": {},
   "outputs": [],
   "source": [
    "df_phase6.to_csv(\"df_phase6.csv\")"
   ]
  },
  {
   "cell_type": "code",
   "execution_count": 293,
   "metadata": {},
   "outputs": [],
   "source": [
    "df_phase6 = pd.read_csv(\"df_phase6.csv\",encoding = \"latin1\")"
   ]
  },
  {
   "cell_type": "code",
   "execution_count": null,
   "metadata": {},
   "outputs": [],
   "source": [
    "invoice_to_cats = {}\n",
    "for i, row in df_phase6.iterrows():\n",
    "    invoice = row[\"InvoiceNo\"]\n",
    "    if invoice in invoice_to_cats:\n",
    "        invoice_to_cats[invoice][3] += row[\"cat0\"]\n",
    "        invoice_to_cats[invoice][4] += row[\"cat1\"]\n",
    "        invoice_to_cats[invoice][5] += row[\"cat2\"]\n",
    "        invoice_to_cats[invoice][6] += row[\"cat3\"]\n",
    "        invoice_to_cats[invoice][7] += row[\"cat4\"]\n",
    "        invoice_to_cats[invoice][7] += row[\"cat5\"]\n",
    "        invoice_to_cats[invoice][7] += row[\"cat6\"]\n",
    "        invoice_to_cats[invoice][8] += row[\"TotalPrice\"]\n",
    "    else:\n",
    "        invoice_to_cats[invoice]= list([row[\"CustomerID\"],row[\"InvoiceNo\"], row[\"CountryID\"], row[\"cat0\"],row[\"cat1\"],row[\"cat2\"],row[\"cat3\"],row[\"cat4\"],row[\"TotalPrice\"] ])\n",
    "\n",
    "print(invoice_to_cats)"
   ]
  },
  {
   "cell_type": "code",
   "execution_count": null,
   "metadata": {},
   "outputs": [],
   "source": [
    "df_phase7 = []\n",
    "for key, val in invoice_to_cats.items():\n",
    "    if val[-1]>0:\n",
    "        df_phase7.append(val)\n",
    "\n",
    "print(df_phase7)"
   ]
  },
  {
   "cell_type": "code",
   "execution_count": 298,
   "metadata": {},
   "outputs": [],
   "source": [
    "for val in (df_phase7):\n",
    "    cat_sum = 0\n",
    "    maxx = -1\n",
    "    for j in range(3,7):\n",
    "        cat_sum += val[j]\n",
    "        maxx=max(maxx,val[j])\n",
    "    if maxx > val[8]:\n",
    "        print(val)\n",
    "        print('nope',maxx,val[7])\n"
   ]
  },
  {
   "cell_type": "code",
   "execution_count": null,
   "metadata": {},
   "outputs": [],
   "source": [
    "cust_to_invoice = {}\n",
    "\n",
    "for i, row in enumerate(df_phase7):\n",
    "    cust = row[0]\n",
    "    if cust in cust_to_invoice:\n",
    "        cust_to_invoice[cust][2] += row[3]\n",
    "        cust_to_invoice[cust][3] += row[4]\n",
    "        cust_to_invoice[cust][4] += row[5]\n",
    "        cust_to_invoice[cust][5] += row[6]\n",
    "        cust_to_invoice[cust][6] += row[7]\n",
    "        cust_to_invoice[cust][7] += row[8]\n",
    "        cust_to_invoice[cust][8] = min({cust_to_invoice[cust][8], row[8],0})\n",
    "        cust_to_invoice[cust][9] = max(cust_to_invoice[cust][9], row[8])\n",
    "        cust_to_invoice[cust][10] += 1\n",
    "        if cust_to_invoice[cust][8] < 0:\n",
    "            cust_to_invoice[cust][8] = 0\n",
    "    else:\n",
    "        cust_to_invoice[cust]= list([row[0], row[2], row[3],row[4],row[5],row[6],row[7],row[8],row[8],row[8], 1])\n",
    "\n",
    "print(cust_to_invoice)"
   ]
  },
  {
   "cell_type": "code",
   "execution_count": 300,
   "metadata": {},
   "outputs": [
    {
     "name": "stdout",
     "output_type": "stream",
     "text": [
      "12\n"
     ]
    }
   ],
   "source": [
    "df_phase8 = []\n",
    "for key, val in cust_to_invoice.items():\n",
    "    val2 = [val[i] for i in range(len(val))]\n",
    "    val2.append(val[7] / (val[-1]+0.5))\n",
    "    for i in range(2,7):\n",
    "        if val[7]!=0:\n",
    "            val2[i] /= (val2[7]+0.5)\n",
    "            val2[i] *= 100\n",
    "        else:\n",
    "            val2[i] = 0\n",
    "    df_phase8.append(val2)\n",
    "\n",
    "print(len(df_phase8[0]))\n",
    "# Original Order: Customer ID, Country ID, Cat-0, Cat-1, Cat-2, Cat-3, Cat-4, Total, Min, Max, Mean, Frequency"
   ]
  },
  {
   "cell_type": "code",
   "execution_count": 301,
   "metadata": {},
   "outputs": [
    {
     "name": "stdout",
     "output_type": "stream",
     "text": [
      "      CustomerID  CountryID  Category-0  Category-1  Category-2  Category-3  \\\n",
      "0          17850          0         0.0    0.000000   23.535976    7.267993   \n",
      "1          13047          0         0.0    8.951975   24.952362   15.464587   \n",
      "2          12583          1         0.0   20.003645    3.412013   20.824893   \n",
      "3          13748          0         0.0    5.552569    3.098814   15.494071   \n",
      "4          15100          0         0.0    0.000000    0.000000    0.000000   \n",
      "...          ...        ...         ...         ...         ...         ...   \n",
      "4322       13436          0         0.0   10.486853    8.612392    5.927352   \n",
      "4323       15520          0         0.0   15.523256    0.000000   27.488372   \n",
      "4324       13298          0         0.0    0.000000    0.000000    0.000000   \n",
      "4325       14569          0         0.0    0.000000    4.366142    1.579710   \n",
      "4326       12713          4         0.0   10.724928    0.000000   37.347624   \n",
      "\n",
      "      Category-4  Total Expenditure  Min Expenditure  Max Expenditure  \\\n",
      "0      68.677184            5322.84             0.00           506.40   \n",
      "1      48.483351            3095.80             0.00           529.68   \n",
      "2      49.029333            7187.34             0.00           855.86   \n",
      "3      72.792622             948.25             0.00           335.80   \n",
      "4       0.000000             635.10             0.00           273.75   \n",
      "...          ...                ...              ...              ...   \n",
      "4322   74.720097             196.89           196.89           196.89   \n",
      "4323   56.843023             343.50           343.50           343.50   \n",
      "4324   74.895978             360.00           360.00           360.00   \n",
      "4325   93.834745             227.39           227.39           227.39   \n",
      "4326   45.508510             848.55           848.55           848.55   \n",
      "\n",
      "      No. of Invoices  Mean Expenditure  \n",
      "0                  34        154.285217  \n",
      "1                   9        325.873684  \n",
      "2                  15        463.699355  \n",
      "3                   5        172.409091  \n",
      "4                   3        181.457143  \n",
      "...               ...               ...  \n",
      "4322                1        131.260000  \n",
      "4323                1        229.000000  \n",
      "4324                1        240.000000  \n",
      "4325                1        151.593333  \n",
      "4326                1        565.700000  \n",
      "\n",
      "[4327 rows x 12 columns]\n"
     ]
    }
   ],
   "source": [
    "cols = [\"CustomerID\", \"CountryID\", \"Category-0\", \"Category-1\", \"Category-2\", \"Category-3\", \"Category-4\", \"Total Expenditure\", \"Min Expenditure\", \"Max Expenditure\", \"No. of Invoices\", \"Mean Expenditure\"]\n",
    "df_phase9 = pd.DataFrame(df_phase8, columns = cols)\n",
    "print(df_phase9)"
   ]
  },
  {
   "cell_type": "code",
   "execution_count": 302,
   "metadata": {},
   "outputs": [],
   "source": [
    "df_phase9.to_csv(\"df_phase9.csv\")"
   ]
  },
  {
   "cell_type": "code",
   "execution_count": 303,
   "metadata": {},
   "outputs": [],
   "source": [
    "df_phase9 = pd.read_csv(\"df_phase9.csv\",encoding=\"latin1\")\n",
    "df_phase9.drop(\"CustomerID\",axis=1,inplace=True)\n",
    "df_phase9.drop(\"CountryID\",axis=1,inplace=True)"
   ]
  },
  {
   "cell_type": "code",
   "execution_count": 304,
   "metadata": {},
   "outputs": [
    {
     "data": {
      "text/plain": [
       "Unnamed: 0             4326.000000\n",
       "Category-0               93.457944\n",
       "Category-1               99.992767\n",
       "Category-2               99.984120\n",
       "Category-3               99.971273\n",
       "Category-4               99.987052\n",
       "Total Expenditure    279765.020000\n",
       "Min Expenditure        6207.670000\n",
       "Max Expenditure       30757.000000\n",
       "No. of Invoices         205.000000\n",
       "Mean Expenditure       9940.360000\n",
       "dtype: float64"
      ]
     },
     "execution_count": 304,
     "metadata": {},
     "output_type": "execute_result"
    }
   ],
   "source": [
    "df_phase9.max()"
   ]
  },
  {
   "cell_type": "code",
   "execution_count": 315,
   "metadata": {},
   "outputs": [
    {
     "name": "stdout",
     "output_type": "stream",
     "text": [
      "0    2190\n",
      "5    1878\n",
      "3     224\n",
      "2      29\n",
      "1       4\n",
      "4       2\n",
      "dtype: int64\n"
     ]
    }
   ],
   "source": [
    "from sklearn.cluster import KMeans\n",
    "\n",
    "kmeans = KMeans(init='k-means++', n_clusters = 6, n_init=10000)\n",
    "kmeans.fit(df_phase9)\n",
    "clusters = kmeans.predict(df_phase9)\n",
    "print(pd.Series(clusters).value_counts())"
   ]
  },
  {
   "cell_type": "code",
   "execution_count": 316,
   "metadata": {},
   "outputs": [
    {
     "name": "stdout",
     "output_type": "stream",
     "text": [
      "[2190, 1878, 224, 29, 4, 2]\n"
     ]
    }
   ],
   "source": [
    "print(list(pd.Series(clusters).value_counts()))"
   ]
  },
  {
   "cell_type": "code",
   "execution_count": 317,
   "metadata": {},
   "outputs": [
    {
     "data": {
      "text/plain": [
       "Unnamed: 0             4326.000000\n",
       "Category-0               93.457944\n",
       "Category-1               99.992767\n",
       "Category-2               99.984120\n",
       "Category-3               99.971273\n",
       "Category-4               99.987052\n",
       "Total Expenditure    279765.020000\n",
       "Min Expenditure        6207.670000\n",
       "Max Expenditure       30757.000000\n",
       "No. of Invoices         205.000000\n",
       "Mean Expenditure       9940.360000\n",
       "dtype: float64"
      ]
     },
     "execution_count": 317,
     "metadata": {},
     "output_type": "execute_result"
    }
   ],
   "source": [
    "df_phase9.max()"
   ]
  },
  {
   "cell_type": "code",
   "execution_count": 318,
   "metadata": {},
   "outputs": [],
   "source": [
    "df_phase9.drop(df_phase9.columns[0],axis=1,inplace=True)"
   ]
  },
  {
   "cell_type": "code",
   "execution_count": 319,
   "metadata": {},
   "outputs": [
    {
     "name": "stdout",
     "output_type": "stream",
     "text": [
      "[[2.89763173e+00 1.49827460e+01 1.38690101e+01 2.30418896e+01\n",
      "  4.13741165e+01 5.75699065e+02 1.80426708e+02 3.77848558e+02\n",
      "  1.92009132e+00 2.33963481e+02]\n",
      " [2.30201075e+00 9.63152853e+00 1.25742034e+01 1.84628904e+01\n",
      "  5.35445711e+01 1.42000315e+05 0.00000000e+00 1.80259875e+04\n",
      "  7.97500000e+01 3.31131261e+03]\n",
      " [1.67792920e+00 1.10786227e+01 1.24696226e+01 2.05117039e+01\n",
      "  4.98275825e+01 4.32741983e+04 0.00000000e+00 6.80215379e+03\n",
      "  4.50689655e+01 1.71818151e+03]\n",
      " [1.80878213e+00 1.08389101e+01 1.55313871e+01 2.06613763e+01\n",
      "  4.74259652e+01 8.74500848e+03 4.94708929e+01 1.72664777e+03\n",
      "  1.62767857e+01 7.58449850e+02]\n",
      " [1.44526173e+00 6.69138749e+00 3.36556100e+01 1.71379543e+01\n",
      "  3.79501196e+01 2.69711160e+05 0.00000000e+00 2.12419600e+04\n",
      "  6.65000000e+01 4.04909150e+03]\n",
      " [3.07121795e+00 1.33356055e+01 1.54151210e+01 2.18700887e+01\n",
      "  4.25447294e+01 1.49822688e+03 6.39813046e+01 5.21135256e+02\n",
      "  4.67944622e+00 2.95189313e+02]]\n"
     ]
    }
   ],
   "source": [
    "k = 6\n",
    "centers = [[0 for i in range(df_phase9.shape[1])] for j in range(k)]\n",
    "\n",
    "count = [0 for _ in range(k)]\n",
    "for i,row in df_phase9.iterrows():\n",
    "    cur = clusters[i]\n",
    "    count[cur]+=1\n",
    "    for j in range(df_phase9.shape[1]):\n",
    "        centers[cur][j] += row[j]   \n",
    "centers = np.array(centers)\n",
    "for i in range(k):\n",
    "    centers[i] /= count[i]\n",
    "\n",
    "print(centers)"
   ]
  },
  {
   "cell_type": "code",
   "execution_count": 263,
   "metadata": {},
   "outputs": [
    {
     "name": "stdout",
     "output_type": "stream",
     "text": [
      "15.232961590085395\n"
     ]
    }
   ],
   "source": [
    "print(centers[3][1])"
   ]
  },
  {
   "cell_type": "code",
   "execution_count": 264,
   "metadata": {},
   "outputs": [
    {
     "name": "stdout",
     "output_type": "stream",
     "text": [
      "[1.32203556e+02 3.68526257e+03 5.98540146e+00 2.86428571e+02\n",
      " 1.44106133e+05 4.69633333e+03]\n"
     ]
    }
   ],
   "source": [
    "print(np.array(centers[:,0]))"
   ]
  },
  {
   "cell_type": "code",
   "execution_count": 277,
   "metadata": {},
   "outputs": [],
   "source": [
    "\n",
    "# temp[4]=0"
   ]
  },
  {
   "cell_type": "code",
   "execution_count": 320,
   "metadata": {},
   "outputs": [
    {
     "data": {
      "image/png": "[encoded data removed]",
      "text/plain": [
       "<Figure size 432x288 with 1 Axes>"
      ]
     },
     "metadata": {
      "needs_background": "light"
     },
     "output_type": "display_data"
    },
    {
     "data": {
      "image/png": "[encoded data removed]",
      "text/plain": [
       "<Figure size 432x288 with 1 Axes>"
      ]
     },
     "metadata": {
      "needs_background": "light"
     },
     "output_type": "display_data"
    },
    {
     "data": {
      "image/png": "[encoded data removed]",
      "text/plain": [
       "<Figure size 432x288 with 1 Axes>"
      ]
     },
     "metadata": {
      "needs_background": "light"
     },
     "output_type": "display_data"
    },
    {
     "data": {
      "image/png": "[encoded data removed]",
      "text/plain": [
       "<Figure size 432x288 with 1 Axes>"
      ]
     },
     "metadata": {
      "needs_background": "light"
     },
     "output_type": "display_data"
    },
    {
     "data": {
      "image/png": "[encoded data removed]",
      "text/plain": [
       "<Figure size 432x288 with 1 Axes>"
      ]
     },
     "metadata": {
      "needs_background": "light"
     },
     "output_type": "display_data"
    },
    {
     "data": {
      "image/png": "[encoded data removed]",
      "text/plain": [
       "<Figure size 432x288 with 1 Axes>"
      ]
     },
     "metadata": {
      "needs_background": "light"
     },
     "output_type": "display_data"
    }
   ],
   "source": [
    "\n",
    "for j in range(6):\n",
    "        temp = centers[:,j]\n",
    "        plt.bar([i for i in range(6)], temp, color ='maroon',\n",
    "        width = 0.4)\n",
    "        plt.show()\n"
   ]
  }
 ],
 "metadata": {
  "interpreter": {
   "hash": "8296d0786e9b384ebb7f91942e232033740bae4a9ae1f1bba7a3651c8060b4f0"
  },
  "kernelspec": {
   "display_name": "Python 3.9.7 ('base')",
   "language": "python",
   "name": "python3"
  },
  "language_info": {
   "codemirror_mode": {
    "name": "ipython",
    "version": 3
   },
   "file_extension": ".py",
   "mimetype": "text/x-python",
   "name": "python",
   "nbconvert_exporter": "python",
   "pygments_lexer": "ipython3",
   "version": "3.9.7"
  },
  "orig_nbformat": 4
 },
 "nbformat": 4,
 "nbformat_minor": 2
}
